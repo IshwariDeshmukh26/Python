{
 "cells": [
  {
   "cell_type": "markdown",
   "id": "8641b4f4-4abc-4cd1-845b-ea861ad5c802",
   "metadata": {},
   "source": [
    "# String in Python"
   ]
  },
  {
   "cell_type": "markdown",
   "id": "9904f1d8-5e5c-49f3-b43b-089076a50f13",
   "metadata": {},
   "source": [
    "It is a collection of one or more characters, numbers and special symbols put in\r\n",
    "'Single quote', \"Double quote\" and '''triple quote'''."
   ]
  },
  {
   "cell_type": "markdown",
   "id": "f25305b9-4756-4258-9dea-79d4976c2862",
   "metadata": {},
   "source": [
    "### How to Define a String:"
   ]
  },
  {
   "cell_type": "code",
   "execution_count": 8,
   "id": "145722f0-8a1d-408c-9cbd-ad6fa6b7e71c",
   "metadata": {},
   "outputs": [],
   "source": [
    "#Using Single Quotes:\n",
    "name = 'John'\n",
    "\n",
    "#Using Double Quotes:\n",
    "greeting = \"Hello, World!\"\n",
    "\n",
    "#Triple Quotes: Triple quotes (''' or \"\"\") are used for multi-line strings or docstrings (for documentation).\n",
    "multi_line_string = \"\"\"This is a multi-line string.\"\"\"\n",
    "\n",
    "multi_line_string = '''This is a multi-line string.'''\n"
   ]
  },
  {
   "cell_type": "markdown",
   "id": "6b5e1aa1-6dbc-4f50-b4dd-3088e79b1ee9",
   "metadata": {},
   "source": [
    "### Examples"
   ]
  },
  {
   "cell_type": "code",
   "execution_count": 2,
   "id": "955470ff-7bd3-400f-ad7f-cbfa0842644f",
   "metadata": {},
   "outputs": [
    {
     "name": "stdout",
     "output_type": "stream",
     "text": [
      "Hello, World!\n"
     ]
    }
   ],
   "source": [
    "#Example using Single Quotes :\n",
    "greeting = 'Hello, World!'  # String could be made using a single or double quote,\"Hello, World!\"\n",
    "print(greeting)             # Hello, World!\n",
    "print(len(greeting))        # 13\n"
   ]
  },
  {
   "cell_type": "code",
   "execution_count": 12,
   "id": "c13155cf-95ad-4038-b6bf-ccaf90ad1f5e",
   "metadata": {},
   "outputs": [
    {
     "name": "stdout",
     "output_type": "stream",
     "text": [
      "I hope you are enjoying 30 days of Python Challenge\n"
     ]
    }
   ],
   "source": [
    "#Example using Double Quotes:\n",
    "sentence = \"I hope you are enjoying 30 days of Python Challenge\"\n",
    "print(sentence)"
   ]
  },
  {
   "cell_type": "code",
   "execution_count": 16,
   "id": "9cf30e7a-0124-4985-991d-c8b52e0dbd9b",
   "metadata": {},
   "outputs": [
    {
     "name": "stdout",
     "output_type": "stream",
     "text": [
      "Python is popular language\n",
      "Python is easy to understand.\n"
     ]
    }
   ],
   "source": [
    "#Example using multiline Quotes:\n",
    "multiline_string = '''Python is popular language'''\n",
    "print(multiline_string)\n",
    "\n",
    "# Another way of doing the same thing\n",
    "multiline_string = \"\"\"Python is easy to understand.\"\"\"\n",
    "print(multiline_string)"
   ]
  },
  {
   "cell_type": "markdown",
   "id": "9786a9aa-eb72-4ddf-9a56-ab1b646121ca",
   "metadata": {},
   "source": [
    "# len() in-built Function"
   ]
  },
  {
   "cell_type": "markdown",
   "id": "790a5c53-0c49-4bde-b124-143abec0c8f1",
   "metadata": {},
   "source": [
    "The len() function returns the number of items in an object (string, list, tuple, dictionary, set)."
   ]
  },
  {
   "cell_type": "markdown",
   "id": "4e005024-a96d-4c17-871b-e965d4b8e38c",
   "metadata": {},
   "source": [
    "When the object is a string, the len() function returns the number of characters\n",
    "in the string."
   ]
  },
  {
   "cell_type": "markdown",
   "id": "f8ea570b-db32-4ef9-98fb-92a591260541",
   "metadata": {},
   "source": [
    "## Syntax"
   ]
  },
  {
   "cell_type": "markdown",
   "id": "22abbd79-bd0e-4920-8158-25e26132307f",
   "metadata": {},
   "source": [
    "#### len(object)"
   ]
  },
  {
   "cell_type": "markdown",
   "id": "07fe7415-ece7-4b92-8e1a-f070dee2652a",
   "metadata": {},
   "source": [
    "# Example"
   ]
  },
  {
   "cell_type": "code",
   "execution_count": 5,
   "id": "b18ede77-9e26-485c-bb48-3afb9ab3832a",
   "metadata": {},
   "outputs": [
    {
     "name": "stdout",
     "output_type": "stream",
     "text": [
      "6\n"
     ]
    }
   ],
   "source": [
    "s=\"Python\"#Defines the string\n",
    "print(len(s)) # called len function to return length(how many characters in string) of string\n",
    "# print length"
   ]
  },
  {
   "cell_type": "markdown",
   "id": "535d548d-7eff-4425-88b1-1dc9003c27d2",
   "metadata": {},
   "source": [
    "# Accessing characters in Python String:"
   ]
  },
  {
   "cell_type": "markdown",
   "id": "d18ac0cf-3cf1-4512-9210-689087a90ff7",
   "metadata": {},
   "source": [
    "In Python, there are two ways to access characters in String."
   ]
  },
  {
   "cell_type": "markdown",
   "id": "8a2581ac-9134-4bb1-abdd-64e95a1f07f9",
   "metadata": {},
   "source": [
    "1.By using index"
   ]
  },
  {
   "cell_type": "markdown",
   "id": "210fd467-a0c2-4e8a-ac45-85ef6e6d96f6",
   "metadata": {},
   "source": [
    "2.By using slice operator"
   ]
  },
  {
   "cell_type": "markdown",
   "id": "0d5f9a2a-3647-4325-95f5-e6fc914f82cb",
   "metadata": {},
   "source": [
    "### Accessing Characters by using Index:"
   ]
  },
  {
   "cell_type": "markdown",
   "id": "c241c7d2-7b27-4a29-8291-425da930f75d",
   "metadata": {},
   "source": [
    "In Python, individual characters of a String can be accessed by using the method of Indexing."
   ]
  },
  {
   "cell_type": "markdown",
   "id": "9778d2ea-815e-43bd-8e11-20bd20d645d9",
   "metadata": {},
   "source": [
    "Python support two types of index positive(+) and negative(-):"
   ]
  },
  {
   "cell_type": "markdown",
   "id": "f1bfc126-48ce-4cb5-ac0d-714fa5f3efc7",
   "metadata": {},
   "source": [
    "1.Positive index: means left to right (forward direction)\n",
    "\n",
    "2.Negative index: means right to left (backward direction)"
   ]
  },
  {
   "cell_type": "markdown",
   "id": "1d2c9fed-c9f5-4dbd-8cb8-1951479573b0",
   "metadata": {},
   "source": [
    "### Example 1: Using positive indexing"
   ]
  },
  {
   "cell_type": "code",
   "execution_count": 6,
   "id": "73dd7637-3030-47f5-bdaa-5f353b0871d7",
   "metadata": {},
   "outputs": [
    {
     "name": "stdout",
     "output_type": "stream",
     "text": [
      "P\n",
      "s\n"
     ]
    }
   ],
   "source": [
    "s=\"Python is Programming language\"\n",
    "print(s[0])    # Accesses the first character of the string\n",
    "print(s[8])    # Accesses the ninth character of the string\n",
    "#s[0] will print the first character of the string, which is 'P'.\n",
    "#s[8] will print the ninth character of the string, which is 's'."
   ]
  },
  {
   "cell_type": "markdown",
   "id": "fc4621c7-7eec-41c4-87e6-38399ad21ccb",
   "metadata": {},
   "source": [
    "### Example 2: Using negative indexing"
   ]
  },
  {
   "cell_type": "code",
   "execution_count": 7,
   "id": "f81ccc41-53a4-4fa9-8962-dcf68908b1b0",
   "metadata": {},
   "outputs": [
    {
     "name": "stdout",
     "output_type": "stream",
     "text": [
      "l\n",
      "g\n"
     ]
    }
   ],
   "source": [
    "s=\"Python is Programming language\"\n",
    "print(s[-8])   # Accesses the second character from the left\n",
    "print(s[-2])   # Accesses the second character from the right\n",
    "#s[-8] refers to the second character from the left, which is 'l'.\n",
    "#s[-2] refers to the second character from the right, which is 'g'."
   ]
  },
  {
   "cell_type": "markdown",
   "id": "31d49c69-52ea-46b4-8ddd-8115907c0e52",
   "metadata": {},
   "source": [
    "### Accessing Characters by using Slice Operator:"
   ]
  },
  {
   "cell_type": "markdown",
   "id": "bb3b327f-eb2a-4d7d-89d2-c97b1ad79940",
   "metadata": {},
   "source": [
    "Python also allows a form of indexing syntax that extracts substrings from a string, known as string slicing."
   ]
  },
  {
   "cell_type": "markdown",
   "id": "c8727da6-8668-484d-9f02-2c9d9cd73b9b",
   "metadata": {},
   "source": [
    "If s is a string, an expression of the form s[m:n] returns the portion of s starting with position m, and up to but not including position n."
   ]
  },
  {
   "cell_type": "markdown",
   "id": "45f41f80-d09a-4f91-bc6b-e4df27d091e8",
   "metadata": {},
   "source": [
    "### Syntax:"
   ]
  },
  {
   "cell_type": "markdown",
   "id": "69670c1b-4d99-4760-b8c9-7a2cecce3cb7",
   "metadata": {},
   "source": [
    "#### String[beginindex:endindex:step]"
   ]
  },
  {
   "cell_type": "markdown",
   "id": "489f0c01-d4a7-4352-9f47-b6c48005250d",
   "metadata": {},
   "source": [
    "### Example 1: Using Slicing "
   ]
  },
  {
   "cell_type": "code",
   "execution_count": 8,
   "id": "370eeea6-7702-4b41-96eb-f4c4b482a910",
   "metadata": {},
   "outputs": [
    {
     "name": "stdout",
     "output_type": "stream",
     "text": [
      "Pyth\n",
      "Pt\n",
      "oht\n",
      "\n",
      "Python\n",
      "Python\n",
      "on\n",
      "Python\n",
      "nohtyP\n"
     ]
    }
   ],
   "source": [
    "s=\"Python\"\n",
    "\n",
    "print(s[0:4])\n",
    "#This extracts characters from index 0 to 3 (4 is excluded).\n",
    "\n",
    "print(s[0:4:2])\n",
    "#This extracts characters from index 0 to 3 (4 is excluded), stepping by 2.\n",
    "\n",
    "print(s[-2:-5:-1])\n",
    "#This extracts characters from index -2 to -5 (not including -5), stepping backward by -1.\n",
    "\n",
    "print(s[-1:-5])\n",
    "#This extracts characters from index -1 to -5, but since the step defaults to +1 and -5 is before -1, the result is empty.\n",
    "\n",
    "print(s[:])\n",
    "#This extracts all characters from the start to the end of the string.\n",
    "    \n",
    "print(s[:8])\n",
    "#This extracts characters from the start to index 7 (8 is excluded), but since the string only has 6 characters, it takes all characters.\n",
    "\n",
    "print(s[4:])\n",
    "#This extracts characters from index 4 to the end of the string.\n",
    "\n",
    "print(s[::])\n",
    "#This extracts all characters, as the default step is 1.\n",
    "\n",
    "print(s[::-1])\n",
    "#This reverses the string by extracting all characters with a step of -1.\n",
    "\n",
    "\n"
   ]
  },
  {
   "cell_type": "markdown",
   "id": "27677002-57f8-40b8-85c2-25c8b0fe1819",
   "metadata": {},
   "source": [
    "## Arithmetical/Mathematical Operators for String:"
   ]
  },
  {
   "cell_type": "markdown",
   "id": "bbaf6a54-30c1-40ae-a293-804b9a6fbc28",
   "metadata": {},
   "source": [
    "## (+) (*) (+=)"
   ]
  },
  {
   "cell_type": "markdown",
   "id": "fc710e18-f45b-4cbe-bbd8-be73ff352f65",
   "metadata": {},
   "source": [
    "#### 1.(+) Operator-->It used for concatenation(to join to strings)"
   ]
  },
  {
   "cell_type": "code",
   "execution_count": 9,
   "id": "c6d346cb-2387-439d-93b9-f3afed682f06",
   "metadata": {},
   "outputs": [
    {
     "name": "stdout",
     "output_type": "stream",
     "text": [
      "PythonProgramming\n"
     ]
    }
   ],
   "source": [
    "#Example using (+)Operator\n",
    "s=\"Python\"\n",
    "s1=\"Programming\"\n",
    "print(s+s1)"
   ]
  },
  {
   "cell_type": "markdown",
   "id": "351898d2-38b3-45b2-9b12-95107e0245eb",
   "metadata": {},
   "source": [
    "#### 2.(*) Operator--> It used for repetition(to display same string multiple times)"
   ]
  },
  {
   "cell_type": "code",
   "execution_count": 12,
   "id": "557570f4-586c-4cd0-b74d-e12b13a700e7",
   "metadata": {},
   "outputs": [
    {
     "name": "stdout",
     "output_type": "stream",
     "text": [
      "pythonpythonpythonpythonpython\n"
     ]
    }
   ],
   "source": [
    "#Example using (*)Operator\n",
    "s=\"python\"\n",
    "print(s*5)"
   ]
  },
  {
   "cell_type": "markdown",
   "id": "468df3de-f37a-4818-89cf-fae4b090867c",
   "metadata": {},
   "source": [
    "#### 3.(+=)Operator-->It used for appending (to add something at the end)"
   ]
  },
  {
   "cell_type": "code",
   "execution_count": 11,
   "id": "4cd21aca-2f72-4a29-8bfb-9c37cddc6fa2",
   "metadata": {},
   "outputs": [
    {
     "name": "stdout",
     "output_type": "stream",
     "text": [
      "PythonProgramming\n"
     ]
    }
   ],
   "source": [
    "#Example using (+=)Operator\n",
    "s='Python'\n",
    "s1='Programming'\n",
    "s+=s1\n",
    "print(s)"
   ]
  },
  {
   "cell_type": "markdown",
   "id": "72041b89-aa1e-4c9e-9568-3f42afe74272",
   "metadata": {},
   "source": [
    "## Checking Membership in String:"
   ]
  },
  {
   "cell_type": "markdown",
   "id": "71d5a1be-56de-4f4f-b1f0-46bdd0782652",
   "metadata": {},
   "source": [
    "In python, Membership operator is used to check whether a character or substring is a member of a string (present in a string) or not."
   ]
  },
  {
   "cell_type": "markdown",
   "id": "cb1b7740-699b-475f-81d5-0bc3f2406f5b",
   "metadata": {},
   "source": [
    "1.in\n",
    "-->Checks if a value is present in a sequence (e.g., string, list, tuple, dictionary, etc.).\n",
    "\n",
    "Returns True if the value exists, otherwise False."
   ]
  },
  {
   "cell_type": "code",
   "execution_count": 16,
   "id": "2f05df69-868f-407b-a2fa-c01bc6d57f8e",
   "metadata": {},
   "outputs": [
    {
     "name": "stdout",
     "output_type": "stream",
     "text": [
      "True\n",
      "False\n"
     ]
    }
   ],
   "source": [
    "#Example\n",
    "s = \"Python\"\n",
    "print('y' in s)  # True\n",
    "print('z' in s)  # False"
   ]
  },
  {
   "cell_type": "markdown",
   "id": "f0d513c7-5196-4925-9b16-90f8d504917a",
   "metadata": {},
   "source": [
    "2.not in\n",
    "-->Checks if a value is not present in a sequence.\n",
    "\n",
    "Returns True if the value does not exist, otherwise False."
   ]
  },
  {
   "cell_type": "code",
   "execution_count": 17,
   "id": "25827594-21dd-4dde-9688-bbdc27e0cf11",
   "metadata": {},
   "outputs": [
    {
     "name": "stdout",
     "output_type": "stream",
     "text": [
      "True\n",
      "False\n"
     ]
    }
   ],
   "source": [
    "#Example\n",
    "s = \"Python\"\n",
    "print('z' not in s)  # True\n",
    "print('y' not in s)  # False"
   ]
  },
  {
   "cell_type": "markdown",
   "id": "185180bf-aca2-4554-90b2-cbb047afc3a0",
   "metadata": {},
   "source": [
    "## Removing spaces from the string"
   ]
  },
  {
   "cell_type": "markdown",
   "id": "eb80d064-1c97-40eb-a600-7a7a664d25a9",
   "metadata": {},
   "source": [
    "### 1.strip()"
   ]
  },
  {
   "cell_type": "markdown",
   "id": "1b33afb6-efbf-4ac8-a6b8-d4a31259c0cc",
   "metadata": {},
   "source": [
    "To remove all spaces from bothsides."
   ]
  },
  {
   "cell_type": "code",
   "execution_count": 27,
   "id": "cdb10563-e2fd-49ae-8bd5-6891a04c7b50",
   "metadata": {},
   "outputs": [
    {
     "name": "stdout",
     "output_type": "stream",
     "text": [
      " Hello Friend\n",
      "HelloFriend\n"
     ]
    }
   ],
   "source": [
    "s=' Python '\n",
    "s1='langauage'\n",
    "print(s+s1)\n",
    "\n",
    "s2=s.strip()\n",
    "print(s2+s1)"
   ]
  },
  {
   "cell_type": "markdown",
   "id": "9d410950-8331-434f-ac01-36ca514190cd",
   "metadata": {},
   "source": [
    "### 2.lstrip()"
   ]
  },
  {
   "cell_type": "markdown",
   "id": "01013f31-0749-4671-a8d6-328a27e08e5d",
   "metadata": {},
   "source": [
    "To remove spaces at left hand side"
   ]
  },
  {
   "cell_type": "code",
   "execution_count": 29,
   "id": "5d2529cb-cfa9-4ce5-8a8f-304d70448de1",
   "metadata": {},
   "outputs": [
    {
     "name": "stdout",
     "output_type": "stream",
     "text": [
      " Python langauage\n",
      "Python langauage\n"
     ]
    }
   ],
   "source": [
    "s=' Python '\n",
    "s1='langauage'\n",
    "print(s+s1)\n",
    "\n",
    "s2=s.lstrip()\n",
    "print(s2+s1)"
   ]
  },
  {
   "cell_type": "markdown",
   "id": "6014bf91-5eb2-4e4a-a093-17b982c64992",
   "metadata": {},
   "source": [
    "### 3.rstrip()"
   ]
  },
  {
   "cell_type": "markdown",
   "id": "a8a2e702-7b1e-492c-853f-b291545fae39",
   "metadata": {},
   "source": [
    "To remove spaces at right hand side"
   ]
  },
  {
   "cell_type": "code",
   "execution_count": 30,
   "id": "b0792332-3223-4030-9002-748a8d5074de",
   "metadata": {},
   "outputs": [
    {
     "name": "stdout",
     "output_type": "stream",
     "text": [
      " Python langauage\n",
      " Pythonlangauage\n"
     ]
    }
   ],
   "source": [
    "s=' Python '\n",
    "s1='langauage'\n",
    "print(s+s1)\n",
    "\n",
    "s2=s.rstrip()\n",
    "print(s2+s1)"
   ]
  },
  {
   "cell_type": "markdown",
   "id": "628ae2cd-fd7a-4250-be71-810dbf62bbde",
   "metadata": {},
   "source": [
    "# Finding Substrings:"
   ]
  },
  {
   "cell_type": "markdown",
   "id": "3068471f-e197-410f-9146-53d27a2b3d92",
   "metadata": {},
   "source": [
    "In python, finding substring is used to check whether substring is present in string or not."
   ]
  },
  {
   "cell_type": "markdown",
   "id": "25f9a7e6-e621-4480-a909-31634250c300",
   "metadata": {},
   "source": [
    "Two ways to find substring -1. Forward direction 2. Backward direction"
   ]
  },
  {
   "cell_type": "markdown",
   "id": "3de78b42-099d-4a35-a9c5-ddfa7c65066f",
   "metadata": {},
   "source": [
    "## Forward direction: from left to right\n",
    "\n",
    "Two methods used: 1. find() 2. index()"
   ]
  },
  {
   "cell_type": "markdown",
   "id": "7c608681-101a-409c-a0f4-52ce68893576",
   "metadata": {},
   "source": [
    "### 1.find(str)"
   ]
  },
  {
   "cell_type": "code",
   "execution_count": null,
   "id": "c2afa206-719c-4ac2-a479-45803abdd8f5",
   "metadata": {},
   "outputs": [],
   "source": [
    "#find(str,beg,end)\n",
    "#str=substring to find\n",
    "#beg=0 by default\n",
    "#end=len(str)"
   ]
  },
  {
   "cell_type": "markdown",
   "id": "f62417dc-fd9e-4e5c-9be6-bdbeb75dece4",
   "metadata": {},
   "source": [
    "Checks if string is present in string.If yes then return the position at which str occurs in string Otherwise return -1"
   ]
  },
  {
   "cell_type": "code",
   "execution_count": 32,
   "id": "ba9beaa0-a6f7-422b-a2c2-462bede82e91",
   "metadata": {},
   "outputs": [
    {
     "name": "stdout",
     "output_type": "stream",
     "text": [
      "2\n",
      "-1\n"
     ]
    }
   ],
   "source": [
    "s=\"Python\"\n",
    "print(s.find('thon'))#The find() method searches for the substring 'thon' in the string s = \"Python\".\n",
    "print(s.find('col'))#Since 'col' is not present in the string s = \"Python\", the method returns -1."
   ]
  },
  {
   "cell_type": "markdown",
   "id": "d4bf44f7-198a-49be-aa45-ef9aeaaa9230",
   "metadata": {},
   "source": [
    "### 2.index()"
   ]
  },
  {
   "cell_type": "code",
   "execution_count": null,
   "id": "15e58d7e-c949-49ac-b369-723a215d66b0",
   "metadata": {},
   "outputs": [],
   "source": [
    "#index(str,beg,end)"
   ]
  },
  {
   "cell_type": "markdown",
   "id": "1fb5a43b-ffa0-4e2e-b2f7-cdd911cc1c19",
   "metadata": {},
   "source": [
    "Same as find but raises an exception if str not found."
   ]
  },
  {
   "cell_type": "code",
   "execution_count": 33,
   "id": "e268ae31-0f14-445e-9b66-dc2a24089517",
   "metadata": {},
   "outputs": [
    {
     "name": "stdout",
     "output_type": "stream",
     "text": [
      "2\n"
     ]
    },
    {
     "ename": "ValueError",
     "evalue": "substring not found",
     "output_type": "error",
     "traceback": [
      "\u001b[1;31m---------------------------------------------------------------------------\u001b[0m",
      "\u001b[1;31mValueError\u001b[0m                                Traceback (most recent call last)",
      "Cell \u001b[1;32mIn[33], line 3\u001b[0m\n\u001b[0;32m      1\u001b[0m s\u001b[38;5;241m=\u001b[39m\u001b[38;5;124m\"\u001b[39m\u001b[38;5;124mPython\u001b[39m\u001b[38;5;124m\"\u001b[39m\n\u001b[0;32m      2\u001b[0m \u001b[38;5;28mprint\u001b[39m(s\u001b[38;5;241m.\u001b[39mindex(\u001b[38;5;124m'\u001b[39m\u001b[38;5;124mthon\u001b[39m\u001b[38;5;124m'\u001b[39m))\u001b[38;5;66;03m#The index() method searches for the substring 'thon' in the string s = \"Python\".\u001b[39;00m\n\u001b[1;32m----> 3\u001b[0m \u001b[38;5;28mprint\u001b[39m(s\u001b[38;5;241m.\u001b[39mindex(\u001b[38;5;124m'\u001b[39m\u001b[38;5;124mcol\u001b[39m\u001b[38;5;124m'\u001b[39m))\n",
      "\u001b[1;31mValueError\u001b[0m: substring not found"
     ]
    }
   ],
   "source": [
    "s=\"Python\"\n",
    "print(s.index('thon'))#The index() method searches for the substring 'thon' in the string s = \"Python\".\n",
    "print(s.index('col'))#Since 'col' is not present, the method raises a ValueError instead of returning -1 (unlike the find() method)."
   ]
  },
  {
   "cell_type": "markdown",
   "id": "f7e78fd1-dfab-4a47-b570-f8d6eb201a1a",
   "metadata": {},
   "source": [
    "## Backward direction: from right to left\n",
    "\n",
    "Two methods used: 1.rfind() 2.rindex()"
   ]
  },
  {
   "cell_type": "markdown",
   "id": "a867a8f9-8f72-455b-9cc3-1544eb5f8259",
   "metadata": {},
   "source": [
    "### 1.rfind()"
   ]
  },
  {
   "cell_type": "code",
   "execution_count": null,
   "id": "cde8316c-fbc2-4139-be89-77f3df805fef",
   "metadata": {},
   "outputs": [],
   "source": [
    "##rfind(str,beg,end)"
   ]
  },
  {
   "cell_type": "markdown",
   "id": "bf7ba788-5a47-41c1-b71a-1ff31d97a503",
   "metadata": {},
   "source": [
    "Same as find but starts searching from the end."
   ]
  },
  {
   "cell_type": "code",
   "execution_count": 37,
   "id": "88adb6ca-936c-4b48-869b-bea6c989234f",
   "metadata": {},
   "outputs": [
    {
     "name": "stdout",
     "output_type": "stream",
     "text": [
      "2\n",
      "-1\n"
     ]
    }
   ],
   "source": [
    "s=\"Python\"# define String\n",
    "print(s.rfind('thon',0,len(s)))\n",
    "#rfind(): Searches for the substring 'van' in the string s from the end of the string to the start.\n",
    "#'thon': The substring to search for.\n",
    "#0: Start index (beginning of the string)\n",
    "#len(s): End index (length of the string, which is 6 for \"Python\").\n",
    "\n",
    "print(s.rfind('col',-1,-len(s)))\n",
    "#The slicing specified by -1 to -len(s) doesn't cover any valid part of the string, so 'col' cannot be found."
   ]
  },
  {
   "cell_type": "markdown",
   "id": "c6885363-3134-4b25-9d1c-11e2370ae4a3",
   "metadata": {},
   "source": [
    "### 2.rindex()"
   ]
  },
  {
   "cell_type": "code",
   "execution_count": 39,
   "id": "472ec412-7764-4ecb-8647-be7f4289a6b2",
   "metadata": {},
   "outputs": [],
   "source": [
    "#rindex"
   ]
  },
  {
   "cell_type": "markdown",
   "id": "051cfc73-4bff-4038-be2b-b3d54ca8b907",
   "metadata": {},
   "source": [
    "Same as rfind but raises an exception if str not found."
   ]
  },
  {
   "cell_type": "code",
   "execution_count": 41,
   "id": "16ffbc37-cd84-434e-b8e9-09a3918c0a68",
   "metadata": {},
   "outputs": [
    {
     "name": "stdout",
     "output_type": "stream",
     "text": [
      "2\n"
     ]
    },
    {
     "ename": "ValueError",
     "evalue": "substring not found",
     "output_type": "error",
     "traceback": [
      "\u001b[1;31m---------------------------------------------------------------------------\u001b[0m",
      "\u001b[1;31mValueError\u001b[0m                                Traceback (most recent call last)",
      "Cell \u001b[1;32mIn[41], line 3\u001b[0m\n\u001b[0;32m      1\u001b[0m s\u001b[38;5;241m=\u001b[39m\u001b[38;5;124m\"\u001b[39m\u001b[38;5;124mPython\u001b[39m\u001b[38;5;124m\"\u001b[39m\n\u001b[0;32m      2\u001b[0m \u001b[38;5;28mprint\u001b[39m(s\u001b[38;5;241m.\u001b[39mrindex(\u001b[38;5;124m'\u001b[39m\u001b[38;5;124mthon\u001b[39m\u001b[38;5;124m'\u001b[39m,\u001b[38;5;241m0\u001b[39m,\u001b[38;5;28mlen\u001b[39m(s)))\n\u001b[1;32m----> 3\u001b[0m \u001b[38;5;28mprint\u001b[39m(s\u001b[38;5;241m.\u001b[39mrindex(\u001b[38;5;124m'\u001b[39m\u001b[38;5;124mcol\u001b[39m\u001b[38;5;124m'\u001b[39m,\u001b[38;5;241m-\u001b[39m\u001b[38;5;241m1\u001b[39m,\u001b[38;5;241m-\u001b[39m\u001b[38;5;28mlen\u001b[39m(s)))\n",
      "\u001b[1;31mValueError\u001b[0m: substring not found"
     ]
    }
   ],
   "source": [
    "s=\"Python\"\n",
    "print(s.rindex('thon',0,len(s)))\n",
    "print(s.rindex('col',-1,-len(s)))\n",
    "#'col' is not present in \"Python\", so the rindex() method will raise a ValueError."
   ]
  },
  {
   "cell_type": "markdown",
   "id": "95d66935-df05-4d41-99b4-7f844164b5d3",
   "metadata": {},
   "source": [
    "## Methods in Python String"
   ]
  },
  {
   "cell_type": "code",
   "execution_count": null,
   "id": "6935d573-41fb-401f-91d6-3ac8111d0c50",
   "metadata": {},
   "outputs": [],
   "source": [
    "#capitalize()\n",
    "#count(str,beg,end)\n",
    "#isalnum()\n",
    "#isalpha()\n",
    "#isdigit()\n",
    "#islower()\n",
    "#isupper()\n",
    "#lower()\n",
    "#upper()\n",
    "#split(delim)\n",
    "#join(list)"
   ]
  },
  {
   "cell_type": "markdown",
   "id": "c6409db4-80e9-45e3-8fc8-43d4abbf72b6",
   "metadata": {},
   "source": [
    "### 1.capitalize()"
   ]
  },
  {
   "cell_type": "markdown",
   "id": "58ac209b-56d4-43c4-acb7-f423d54a9b2e",
   "metadata": {},
   "source": [
    "This is used to converts the first character to upper case"
   ]
  },
  {
   "cell_type": "code",
   "execution_count": 55,
   "id": "c825290b-7f9a-4e70-b9b5-f3df00a8765c",
   "metadata": {},
   "outputs": [
    {
     "name": "stdout",
     "output_type": "stream",
     "text": [
      "Python\n"
     ]
    }
   ],
   "source": [
    "s=\"python\"\n",
    "print(s.capitalize())  #Changes the first letter of \"python\" to uppercase and makes the rest lowercase."
   ]
  },
  {
   "cell_type": "markdown",
   "id": "e893d139-374a-424d-aa25-cd2a44a34236",
   "metadata": {},
   "source": [
    "### 2.count(str,beg,end)"
   ]
  },
  {
   "cell_type": "markdown",
   "id": "5e91c416-7ea5-4f32-9e7a-da26c14ec53f",
   "metadata": {},
   "source": [
    "This is used to returns the number of times\n",
    "(count) a specified str occurs in a string"
   ]
  },
  {
   "cell_type": "code",
   "execution_count": 6,
   "id": "fded0bd4-e4cc-4c79-a69b-660d38911203",
   "metadata": {},
   "outputs": [
    {
     "name": "stdout",
     "output_type": "stream",
     "text": [
      "1\n"
     ]
    }
   ],
   "source": [
    "s=\"Python\"\n",
    "print(s.count('y'))  #Counts how many times the letter 'y' appears in the string \"Python\"."
   ]
  },
  {
   "cell_type": "markdown",
   "id": "427624d7-43b7-4f1b-933f-c49123fc36fe",
   "metadata": {},
   "source": [
    "### 3.isalnum()"
   ]
  },
  {
   "cell_type": "markdown",
   "id": "16f48a03-22ee-4636-91d3-6e1d629eef04",
   "metadata": {},
   "source": [
    "This is return True if all characters in the string are alphanumeric"
   ]
  },
  {
   "cell_type": "code",
   "execution_count": 5,
   "id": "26b0d114-64b8-4d13-9767-0f4d8b44d91b",
   "metadata": {},
   "outputs": [
    {
     "name": "stdout",
     "output_type": "stream",
     "text": [
      "True\n",
      "True\n",
      "False\n"
     ]
    }
   ],
   "source": [
    "s=\"hello123\"\n",
    "print(s.isalnum())  #\"hello123\" has letters and numbers, no spaces or symbols, so: True\n",
    "\n",
    "s1='2345'\n",
    "print(s1.isalnum()) #'2345' has only numbers, no spaces or symbols, so: True\n",
    "\n",
    "s2='h1 b'\n",
    "print(s2.isalnum()) #'h1 b' has a space, so: False"
   ]
  },
  {
   "cell_type": "markdown",
   "id": "e8e69cd4-b24c-44b2-9195-c8dfcd0f0c19",
   "metadata": {},
   "source": [
    "### 4.isalpha()"
   ]
  },
  {
   "cell_type": "markdown",
   "id": "5b9c5df0-8073-4366-b226-3ca5180dd1cf",
   "metadata": {},
   "source": [
    "This is returns True if all characters in the string are in the alphabet"
   ]
  },
  {
   "cell_type": "code",
   "execution_count": 60,
   "id": "389e5777-0ddb-4431-af2a-5865187779d7",
   "metadata": {},
   "outputs": [
    {
     "name": "stdout",
     "output_type": "stream",
     "text": [
      "False\n",
      "False\n",
      "True\n"
     ]
    }
   ],
   "source": [
    "s=\"hello123\"\n",
    "print(s.isalpha())   #\"hello123\" has letters and numbers, so: False\n",
    "\n",
    "s1='2345'\n",
    "print(s1.isalpha())  #'2345' has only numbers, no letters, so: False\n",
    "\n",
    "s2='hb'\n",
    "print(s2.isalpha())  #'hb' has only letters, so: True"
   ]
  },
  {
   "cell_type": "markdown",
   "id": "af8dd8c0-908e-462c-a875-b0249c1942cb",
   "metadata": {},
   "source": [
    "### 5.isdigit()"
   ]
  },
  {
   "cell_type": "markdown",
   "id": "6dc03714-7052-411a-9ea0-fc88e5ea396e",
   "metadata": {},
   "source": [
    "This is returns True if all characters in the string are digits"
   ]
  },
  {
   "cell_type": "code",
   "execution_count": 4,
   "id": "94ed11d5-2df6-401c-8a31-f83d35a9594d",
   "metadata": {},
   "outputs": [
    {
     "name": "stdout",
     "output_type": "stream",
     "text": [
      "False\n",
      "True\n",
      "False\n"
     ]
    }
   ],
   "source": [
    "s=\"hello123\"\n",
    "print(s.isdigit())     #Contains letters,so false\n",
    "\n",
    "s1='2345'\n",
    "print(s1.isdigit())    #Only digits, so: True\n",
    "\n",
    "s2='hb'\n",
    "print(s2.isdigit())    # Contains letters, so: False"
   ]
  },
  {
   "cell_type": "markdown",
   "id": "a65e3bc0-2548-4d85-82f4-ba35c3a31d86",
   "metadata": {},
   "source": [
    "### 6.islower()"
   ]
  },
  {
   "cell_type": "markdown",
   "id": "66faf689-f14d-4cd0-a0c0-181c7df524c3",
   "metadata": {},
   "source": [
    "This is returns True if all characters in the string are lower case"
   ]
  },
  {
   "cell_type": "code",
   "execution_count": 7,
   "id": "6672b1e4-e2ed-4908-894c-6a6c5bb95d4e",
   "metadata": {},
   "outputs": [
    {
     "name": "stdout",
     "output_type": "stream",
     "text": [
      "True\n",
      "False\n",
      "False\n"
     ]
    }
   ],
   "source": [
    "s=\"hello123\"\n",
    "print(s.islower())  #\"hello123\" has all lowercase letters, so: True\n",
    "\n",
    "s1='2345'\n",
    "print(s1.islower()) #'2345' has no letters, so: False\n",
    "\n",
    "s2='HB'\n",
    "print(s2.islower()) #'HB' has uppercase letters, so: False"
   ]
  },
  {
   "cell_type": "markdown",
   "id": "75732b5c-4034-44c1-8ec0-edb7334663f9",
   "metadata": {},
   "source": [
    "### 7.isupper()"
   ]
  },
  {
   "cell_type": "markdown",
   "id": "58846c35-aa81-4e6a-b1e6-91e7a7636744",
   "metadata": {},
   "source": [
    "This is returns True if all characters in the\r\n",
    "string are upper case"
   ]
  },
  {
   "cell_type": "code",
   "execution_count": 3,
   "id": "4773b11b-c012-4fdd-b7ae-92b9887bd8f4",
   "metadata": {},
   "outputs": [
    {
     "name": "stdout",
     "output_type": "stream",
     "text": [
      "False\n",
      "False\n",
      "True\n"
     ]
    }
   ],
   "source": [
    "s=\"Python123\"\n",
    "print(s.isupper())  #Checks if all letters in \"Python123\" are uppercase. Since it has lowercase letters, it returns:\n",
    "\n",
    "s1='2345'\n",
    "print(s1.isupper()) #Checks if all characters in '2345' are uppercase. Since there are no letters, it returns:\n",
    "\n",
    "s2='HB'\n",
    "print(s2.isupper()) #Checks if all letters in 'HB' are uppercase. Since both letters are uppercase, it returns:"
   ]
  },
  {
   "cell_type": "markdown",
   "id": "70e0d1c3-6cc6-403f-b00a-9bd4017818e0",
   "metadata": {},
   "source": [
    "### 8.lower()"
   ]
  },
  {
   "cell_type": "markdown",
   "id": "6e8e13c8-e4bb-4a69-892c-76bebbfe14af",
   "metadata": {},
   "source": [
    "This is used to converts all characters in the\n",
    "string into lower case."
   ]
  },
  {
   "cell_type": "code",
   "execution_count": 2,
   "id": "4b7f8e0b-e065-40f0-a797-6931e82b4ba6",
   "metadata": {},
   "outputs": [
    {
     "name": "stdout",
     "output_type": "stream",
     "text": [
      "python\n",
      "python\n",
      "hb\n"
     ]
    }
   ],
   "source": [
    "s=\"Python\"\n",
    "print(s.lower())  #Converts the string \"Hello\" to all lowercase letters.\n",
    "\n",
    "s1='PYTHON'\n",
    "print(s1.lower()) #Converts the string 'SANJIVANI' to all lowercase letters.\n",
    "\n",
    "s2='Hb'\n",
    "print(s2.lower()) #Converts the string 'hb' to all lowercase letters (it's already lowercase, so it stays the same)."
   ]
  },
  {
   "cell_type": "markdown",
   "id": "dd031300-0ce6-4ee5-9b5a-9ade739f14c4",
   "metadata": {},
   "source": [
    "### 9.upper()"
   ]
  },
  {
   "cell_type": "markdown",
   "id": "e26cd9fd-a797-4f6e-ba9e-9b52cedab0fe",
   "metadata": {},
   "source": [
    "This is used to converts all characters in\n",
    "the string into upper case."
   ]
  },
  {
   "cell_type": "code",
   "execution_count": 70,
   "id": "df879077-acbb-48b9-a779-4ba4ea38d63a",
   "metadata": {},
   "outputs": [
    {
     "name": "stdout",
     "output_type": "stream",
     "text": [
      "HELLO\n",
      "SANJIVANI\n",
      "HB\n"
     ]
    }
   ],
   "source": [
    "s=\"Hello\"\n",
    "print(s.upper())    #Converts all characters in the string \"Hello\" to uppercase.\n",
    "\n",
    "s1='SANJIVANI'\n",
    "print(s1.upper())    #Converts all characters in the string 'SANJIVANI' to uppercase.Since the string is already in uppercase, it stays the same.\n",
    "\n",
    "s2='hb'\n",
    "print(s2.upper())    #Converts all characters in the string 'hb' to uppercase."
   ]
  },
  {
   "cell_type": "markdown",
   "id": "8047e164-4ecc-4445-9eda-6517b56d54e2",
   "metadata": {},
   "source": [
    "### 10.split(delim)"
   ]
  },
  {
   "cell_type": "markdown",
   "id": "a3401b6b-6701-4d2b-8ba1-5bfbfb29eafa",
   "metadata": {},
   "source": [
    "This is returns a list of substrings separated\n",
    "by the specified delimiter. If no delimiter is\n",
    "specified then default whitespace a delimiter"
   ]
  },
  {
   "cell_type": "code",
   "execution_count": 69,
   "id": "891bd7f4-9f99-4358-bea3-f9473ce29965",
   "metadata": {},
   "outputs": [
    {
     "name": "stdout",
     "output_type": "stream",
     "text": [
      "['Hello', 'Welcome']\n",
      "['H', 'llo W', 'lcom', '']\n"
     ]
    }
   ],
   "source": [
    "s=\"Hello Welcome\"\n",
    "\n",
    "print(s.split())          # Splits by spaces\n",
    "print(s.split('e'))       # Splits by the letter 'e'\n"
   ]
  },
  {
   "cell_type": "markdown",
   "id": "1c08171f-caa1-4bf3-9ca8-9ca889a9e452",
   "metadata": {},
   "source": [
    "### 11.join(list)"
   ]
  },
  {
   "cell_type": "markdown",
   "id": "b5ee0b2c-5b74-4947-b5c7-5b3d38cf84ca",
   "metadata": {},
   "source": [
    "It is just opposite of split. This is used to join\n",
    "list elements using delimiter."
   ]
  },
  {
   "cell_type": "code",
   "execution_count": 1,
   "id": "11f394c9-8eb7-4af2-95ff-ac55f5ac765c",
   "metadata": {},
   "outputs": [
    {
     "name": "stdout",
     "output_type": "stream",
     "text": [
      "HelloSanjivani\n",
      "Hello-Sanjivani\n"
     ]
    }
   ],
   "source": [
    "s=['Hello','Sanjivani']\n",
    "\n",
    "print(''.join(s))  # Joins the words in the list without adding anything between them\n",
    "\n",
    "print('-'.join(s)) #Joins the words in the list with a - between them."
   ]
  },
  {
   "cell_type": "code",
   "execution_count": null,
   "id": "ad4def07-9436-4c0d-8b13-6c2326d1360a",
   "metadata": {},
   "outputs": [],
   "source": []
  }
 ],
 "metadata": {
  "kernelspec": {
   "display_name": "Python 3 (ipykernel)",
   "language": "python",
   "name": "python3"
  },
  "language_info": {
   "codemirror_mode": {
    "name": "ipython",
    "version": 3
   },
   "file_extension": ".py",
   "mimetype": "text/x-python",
   "name": "python",
   "nbconvert_exporter": "python",
   "pygments_lexer": "ipython3",
   "version": "3.11.4"
  }
 },
 "nbformat": 4,
 "nbformat_minor": 5
}
