{
 "cells": [
  {
   "cell_type": "markdown",
   "id": "4d83dfac-23df-4f15-8390-cbc5a7befc72",
   "metadata": {},
   "source": [
    "# Introduction to Python"
   ]
  },
  {
   "cell_type": "markdown",
   "id": "65b63dbc-a933-40d9-b746-2d0626620b77",
   "metadata": {},
   "source": [
    "Python is a high-level, interpreted programming language known for its simplicity and versatility. It is widely used in various fields, such as web development, data analysis, artificial intelligence, and automation."
   ]
  },
  {
   "cell_type": "markdown",
   "id": "4c0b61bd-8e7a-4198-bce7-fbe525d92a56",
   "metadata": {},
   "source": [
    "## Why Python?"
   ]
  },
  {
   "cell_type": "markdown",
   "id": "9ed05960-510a-4470-a850-165889d861a3",
   "metadata": {},
   "source": [
    "###### 1.Easy to Learn: Python has a simple and beginner-friendly syntax.\n",
    "###### 2.Cross-Platform: Python works on Windows, macOS, and Linux.\n",
    "###### 3.Dynamic Typing: No need to specify variable types.\n",
    "###### 4.Extensive Libraries: Python has many libraries like NumPy, Pandas, and TensorFlow for different tasks.\n",
    "###### 5.Open Source: It is free to use and supported by a large community."
   ]
  },
  {
   "cell_type": "markdown",
   "id": "c4c286bb-d9ae-4cba-8fcb-011ed43c226c",
   "metadata": {},
   "source": [
    "# Basic Syntax"
   ]
  },
  {
   "cell_type": "markdown",
   "id": "10866e65-4a81-4303-958c-e4f174d46b65",
   "metadata": {},
   "source": [
    "Here’s an example of Python code"
   ]
  },
  {
   "cell_type": "code",
   "execution_count": 1,
   "id": "23dd66fb-75b8-4255-a0de-06b4af01c739",
   "metadata": {},
   "outputs": [
    {
     "name": "stdout",
     "output_type": "stream",
     "text": [
      "Hello, Python!\n"
     ]
    }
   ],
   "source": [
    "# Print a message\n",
    "print(\"Hello, Python!\")"
   ]
  },
  {
   "cell_type": "code",
   "execution_count": 2,
   "id": "9484660c-f5b2-4dda-bd5c-2efd3f9dcbee",
   "metadata": {},
   "outputs": [
    {
     "name": "stdout",
     "output_type": "stream",
     "text": [
      "The sum is: 30\n"
     ]
    }
   ],
   "source": [
    "# Variables and arithmetic\n",
    "x = 10\n",
    "y = 20\n",
    "z = x + y\n",
    "print(\"The sum is:\", z)"
   ]
  },
  {
   "cell_type": "code",
   "execution_count": 3,
   "id": "20613623-47f5-473b-a46b-2616050328a4",
   "metadata": {},
   "outputs": [
    {
     "name": "stdout",
     "output_type": "stream",
     "text": [
      "z is greater than 15\n"
     ]
    }
   ],
   "source": [
    "# Conditional statement\n",
    "if z > 15:\n",
    "    print(\"z is greater than 15\")\n",
    "else:\n",
    "    print(\"z is 15 or less\")"
   ]
  },
  {
   "cell_type": "code",
   "execution_count": 4,
   "id": "cabcdbcf-8e52-487f-930a-e95c66190c60",
   "metadata": {},
   "outputs": [
    {
     "name": "stdout",
     "output_type": "stream",
     "text": [
      "This is loop iteration 1\n",
      "This is loop iteration 2\n",
      "This is loop iteration 3\n"
     ]
    }
   ],
   "source": [
    "# Loop example\n",
    "for i in range(3):\n",
    "    print(f\"This is loop iteration {i + 1}\")"
   ]
  },
  {
   "cell_type": "markdown",
   "id": "1f5c51c2-a868-4c6b-a206-0cfd6610b737",
   "metadata": {},
   "source": [
    "# Applications of Python"
   ]
  },
  {
   "cell_type": "markdown",
   "id": "eefd28a1-d7e2-4153-9eb9-87df68da8159",
   "metadata": {},
   "source": [
    "###### 1.Web Development: Frameworks like Django and Flask.\n",
    "###### 2.Data Science: Analyze and visualize data with libraries like Pandas and Matplotlib.\n",
    "###### 3.Artificial Intelligence: Build machine learning models using TensorFlow and PyTorch.\n",
    "###### 4.Automation: Write scripts to automate repetitive tasks.\n",
    "###### 5.Game Development: Create games using Pygame."
   ]
  },
  {
   "cell_type": "markdown",
   "id": "03b1e943-6a2e-4f58-9fbd-eebdeb3d9509",
   "metadata": {},
   "source": [
    "# Why Use Python?"
   ]
  },
  {
   "cell_type": "markdown",
   "id": "3031dff5-d0ba-4f5d-b84e-f706f8e9c6b6",
   "metadata": {},
   "source": [
    "Python is versatile, easy to learn, and supported by a vast array of libraries and tools."
   ]
  },
  {
   "cell_type": "markdown",
   "id": "56dae92f-6f60-4cf5-8daf-23d13d74ed5d",
   "metadata": {},
   "source": [
    "# Data types in Python"
   ]
  },
  {
   "cell_type": "markdown",
   "id": "e7db783c-278f-46e0-a687-4826e6e05dcb",
   "metadata": {},
   "source": [
    "Data types in Python define the kind of data a variable can hold. Python has several built-in data types for handling different kinds of information."
   ]
  },
  {
   "cell_type": "code",
   "execution_count": 16,
   "id": "1bd87cad-15eb-4b62-8c9e-7156816b7b65",
   "metadata": {},
   "outputs": [],
   "source": [
    "#Int\n",
    "#Float\n",
    "#Complex\n",
    "#String\n",
    "#String\n",
    "#List\n",
    "#Dictionary\n",
    "#Set\n",
    "#Truple\n",
    "#Bool"
   ]
  },
  {
   "cell_type": "code",
   "execution_count": 1,
   "id": "e1bdd56e-6f82-4970-ac96-f4f4f2a36f51",
   "metadata": {},
   "outputs": [
    {
     "name": "stdout",
     "output_type": "stream",
     "text": [
      "<class 'int'>\n",
      "<class 'float'>\n",
      "<class 'complex'>\n",
      "<class 'str'>\n",
      "<class 'list'>\n",
      "<class 'dict'>\n",
      "<class 'set'>\n",
      "<class 'tuple'>\n",
      "<class 'bool'>\n",
      "<class 'bool'>\n"
     ]
    }
   ],
   "source": [
    "print(type(10))                  # Int\n",
    "print(type(3.14))                # Float\n",
    "print(type(1 + 3j))              # Complex\n",
    "print(type('Ishwari'))          # String\n",
    "print(type([1, 2, 3]))           # List\n",
    "print(type({'name':'Ishwari'})) # Dictionary\n",
    "print(type({9.8, 3.14, 2.7}))    # Set\n",
    "print(type((9.8, 3.14, 2.7)))    # Tuple\n",
    "print(type(3 == 3))              # Bool\n",
    "print(type(3 >= 3))              # Bool"
   ]
  },
  {
   "cell_type": "markdown",
   "id": "8cccc851-562e-46c5-addb-55112572309c",
   "metadata": {},
   "source": [
    "# Variables in Python"
   ]
  },
  {
   "cell_type": "markdown",
   "id": "55f9dd79-62b4-46fa-82c9-9cac658ea70c",
   "metadata": {},
   "source": [
    "A variable is a name used to store a value in Python. It's like a container where you can store data, and the data can change during the execution of a program"
   ]
  },
  {
   "cell_type": "code",
   "execution_count": 4,
   "id": "3eaf7eb2-3fa2-4494-9321-d64365b4ee3b",
   "metadata": {},
   "outputs": [],
   "source": [
    "# Variables in Python\n",
    "\n",
    "first_name = 'Ishwari'  # String (Text data)\n",
    "last_name = 'Deshmukh'    # String (Text data)\n",
    "country = 'India'      # String (Text data)\n",
    "city = 'Kopargon'        # String (Text data)\n",
    "age = 250                # Integer (Whole number)\n",
    "is_married = False        # Boolean (True/False value)\n",
    "skills = ['HTML', 'CSS', 'JS', 'React', 'Python']  # List (Collection of items)\n",
    "person_info = {          # Dictionary (Key-value pairs)\n",
    "    'firstname':'Ishwari', \n",
    "    'lastname':'Deshmukh', \n",
    "    'country':'India',\n",
    "    'city':'Kopargaon'\n",
    "}\n"
   ]
  },
  {
   "cell_type": "markdown",
   "id": "818ff1aa-6ff0-4587-b6a8-526c608ce30c",
   "metadata": {},
   "source": [
    "A value asign to the variable is called as values.\n",
    "If you have a variable age = 25, the value is 25."
   ]
  },
  {
   "cell_type": "code",
   "execution_count": 5,
   "id": "cd419f02-ce86-4cba-a82c-70b74abb4d13",
   "metadata": {},
   "outputs": [
    {
     "name": "stdout",
     "output_type": "stream",
     "text": [
      "First name: Ishwari\n",
      "First name length: 7\n",
      "Last name:  Deshmukh\n",
      "Last name length:  8\n",
      "Country:  India\n",
      "City:  Kopargon\n",
      "Age:  250\n",
      "Married:  False\n",
      "Skills:  ['HTML', 'CSS', 'JS', 'React', 'Python']\n",
      "Person information:  {'firstname': 'Ishwari', 'lastname': 'Deshmukh', 'country': 'India', 'city': 'Kopargaon'}\n"
     ]
    }
   ],
   "source": [
    "# Printing the values stored in the variables\n",
    "\n",
    "print('First name:', first_name)  # Prints the value of the variable 'first_name'\n",
    "print('First name length:', len(first_name))  # Prints the length of 'first_name'\n",
    "print('Last name: ', last_name)  # Prints the value of the variable 'last_name'\n",
    "print('Last name length: ', len(last_name))  # Prints the length of 'last_name'\n",
    "print('Country: ', country)  # Prints the value of 'country'\n",
    "print('City: ', city)  # Prints the value of 'city'\n",
    "print('Age: ', age)  # Prints the value of 'age'\n",
    "print('Married: ', is_married)  # Prints the value of 'is_married'\n",
    "print('Skills: ', skills)  # Prints the entire list 'skills'\n",
    "print('Person information: ', person_info)  # Prints the entire dictionary 'person_info'"
   ]
  },
  {
   "cell_type": "markdown",
   "id": "d748186e-d810-4caa-9de5-5b07e2b28eb8",
   "metadata": {},
   "source": [
    "# Arithmetic Operators in Python:"
   ]
  },
  {
   "cell_type": "markdown",
   "id": "1f95b771-45e2-4c4d-bc0a-e973eb17fc40",
   "metadata": {},
   "source": [
    "Arithmetic operators are used to perform basic math operations like addition, subtraction, multiplication, division, exponential, modulus and floor division in Python.\n",
    "Here’s a simple list of arithmetic operators:"
   ]
  },
  {
   "cell_type": "code",
   "execution_count": 18,
   "id": "456e5ecf-61ba-425b-9928-4e4299355f98",
   "metadata": {},
   "outputs": [
    {
     "name": "stdout",
     "output_type": "stream",
     "text": [
      "5\n",
      "1\n",
      "6\n",
      "1.5\n",
      "9\n",
      "1\n",
      "1\n"
     ]
    }
   ],
   "source": [
    "#Addition (+): Adds two numbers.\n",
    "print(3 + 2)   # addition(+)\n",
    "\n",
    "#Subtraction (-): Subtracts the second number from the first\n",
    "print(3 - 2)   # subtraction(-)\n",
    "\n",
    "#Multiplication (*): Multiplies two numbers\n",
    "print(3 * 2)   # multiplication(*)\n",
    "\n",
    "#Division (/): Divides the first number by the second, resulting in a float.\n",
    "print(3 / 2)   # division(/)\n",
    "\n",
    "#Exponential (**): Raises the first number to the power of the second.\n",
    "print(3 ** 2)  # exponential(**)\n",
    "\n",
    "#Modulus (%): Returns the remainder of the division.\n",
    "print(3 % 2)   # modulus(%)\n",
    "\n",
    "#Floor Division (//): Divides the first number by the second and returns the integer part (floors the result).\n",
    "print(3 // 2)  # Floor division operator(//)"
   ]
  },
  {
   "cell_type": "code",
   "execution_count": null,
   "id": "16b840ee-b805-44eb-9bd3-d1173f00fe24",
   "metadata": {},
   "outputs": [],
   "source": []
  }
 ],
 "metadata": {
  "kernelspec": {
   "display_name": "Python 3 (ipykernel)",
   "language": "python",
   "name": "python3"
  },
  "language_info": {
   "codemirror_mode": {
    "name": "ipython",
    "version": 3
   },
   "file_extension": ".py",
   "mimetype": "text/x-python",
   "name": "python",
   "nbconvert_exporter": "python",
   "pygments_lexer": "ipython3",
   "version": "3.11.4"
  }
 },
 "nbformat": 4,
 "nbformat_minor": 5
}
