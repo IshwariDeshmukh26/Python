{
 "cells": [
  {
   "cell_type": "markdown",
   "id": "9be22c1b-b767-4b77-8d25-6b46c4502bc7",
   "metadata": {},
   "source": [
    "1.How To Find the Length of a List in Python"
   ]
  },
  {
   "cell_type": "code",
   "execution_count": 1,
   "id": "4c8e7df7-d9e5-4046-8e61-7d898f716f93",
   "metadata": {},
   "outputs": [
    {
     "name": "stdout",
     "output_type": "stream",
     "text": [
      "5\n"
     ]
    }
   ],
   "source": [
    "a = [1, 2, 3, 4, 5] #Define a List\n",
    "length = len(a)#This function calculates the total number of elements in the list a, which is 5 in this case.\n",
    "print(length)#Displays the calculated length of the list."
   ]
  },
  {
   "cell_type": "markdown",
   "id": "981cb64c-11dc-441c-adfa-ce17e2cc40f5",
   "metadata": {},
   "source": [
    "2.Python Program to Find Largest Number in a List"
   ]
  },
  {
   "cell_type": "code",
   "execution_count": 2,
   "id": "3fb8d959-474f-4329-8519-647df9d5b903",
   "metadata": {},
   "outputs": [
    {
     "name": "stdout",
     "output_type": "stream",
     "text": [
      "76\n"
     ]
    }
   ],
   "source": [
    "a = [10, 24, 76, 23, 12]\n",
    "\n",
    "# Max() will return the largest in 'a'\n",
    "largest = max(a)\n",
    "print(largest)"
   ]
  },
  {
   "cell_type": "markdown",
   "id": "bfdca5c5-ee82-4289-811a-eb8e04615d25",
   "metadata": {},
   "source": [
    "2.Python Program to Find Smallest Number in a List"
   ]
  },
  {
   "cell_type": "code",
   "execution_count": 4,
   "id": "afe36494-e703-4084-93a5-0eb784ee8336",
   "metadata": {},
   "outputs": [
    {
     "name": "stdout",
     "output_type": "stream",
     "text": [
      "10\n"
     ]
    }
   ],
   "source": [
    "a = [10, 24, 76, 23, 12]\n",
    "\n",
    "# Min() will return the largest in 'a'\n",
    "smallest = min(a)\n",
    "print(smallest)"
   ]
  },
  {
   "cell_type": "markdown",
   "id": "c0a6e1b0-3754-4d98-92bb-29e98d47f04d",
   "metadata": {},
   "source": [
    "3.Python Program to Swap Two Elements in a List"
   ]
  },
  {
   "cell_type": "code",
   "execution_count": 5,
   "id": "844395fc-58bd-4acb-9cb7-1ee3dd385168",
   "metadata": {},
   "outputs": [
    {
     "name": "stdout",
     "output_type": "stream",
     "text": [
      "[50, 20, 30, 40, 10]\n"
     ]
    }
   ],
   "source": [
    "a = [10, 20, 30, 40, 50]\n",
    "\n",
    "# Swapping elements at index 0 and 4\n",
    "# using multiple assignment\n",
    "a[0], a[4] = a[4], a[0]\n",
    "\n",
    "print(a)"
   ]
  },
  {
   "cell_type": "markdown",
   "id": "8d00663a-e66b-4b22-a2fe-46f997c247d1",
   "metadata": {},
   "source": [
    "4.Check if element exists in list in Python"
   ]
  },
  {
   "cell_type": "code",
   "execution_count": 6,
   "id": "1f6e4402-c17a-414e-b738-10e67ee5ed0b",
   "metadata": {},
   "outputs": [
    {
     "name": "stdout",
     "output_type": "stream",
     "text": [
      "Element exists in the list\n"
     ]
    }
   ],
   "source": [
    "a = [10, 20, 30, 40, 50]\n",
    "\n",
    "# Check if 30 exists in the list\n",
    "if 30 in a:\n",
    "    print(\"Element exists in the list\")\n",
    "else:\n",
    "    print(\"Element does not exist\")"
   ]
  },
  {
   "cell_type": "markdown",
   "id": "76ff57e9-aa2b-4746-8ee6-a773492584c1",
   "metadata": {},
   "source": [
    "5.Python List index() – Find Index of Item\n"
   ]
  },
  {
   "cell_type": "code",
   "execution_count": 7,
   "id": "c23af73f-b4a5-4ba4-a92b-cc4e30797d2b",
   "metadata": {},
   "outputs": [
    {
     "name": "stdout",
     "output_type": "stream",
     "text": [
      "1\n"
     ]
    }
   ],
   "source": [
    "a = [\"cat\", \"dog\", \"tiger\"]\n",
    "\n",
    "print(a.index(\"dog\"))"
   ]
  },
  {
   "cell_type": "markdown",
   "id": "8cf4b137-3aab-4372-a12b-c6e19268351b",
   "metadata": {},
   "source": [
    "6.Ways to remove duplicates from list in Python"
   ]
  },
  {
   "cell_type": "code",
   "execution_count": null,
   "id": "524fd6fe-ca82-48db-8554-eb57aa1ce158",
   "metadata": {},
   "outputs": [],
   "source": [
    "#Using set()\n",
    "a = [1, 2, 2, 3, 4, 4, 5]\n",
    "\n",
    "# Remove duplicates by converting to a set\n",
    "a = list(set(a))\n",
    "\n",
    "print(a)"
   ]
  },
  {
   "cell_type": "markdown",
   "id": "edb512d3-d989-4d15-9a36-cbea8b69efb6",
   "metadata": {},
   "source": [
    "7.Reversing a List in Python"
   ]
  },
  {
   "cell_type": "code",
   "execution_count": 9,
   "id": "a63f87cd-7ce1-4fdb-b576-56f45e751d57",
   "metadata": {},
   "outputs": [
    {
     "name": "stdout",
     "output_type": "stream",
     "text": [
      "[5, 4, 3, 2, 1]\n"
     ]
    }
   ],
   "source": [
    "a = [1, 2, 3, 4, 5]\n",
    "\n",
    "# Reverse the list in-place\n",
    "a.reverse()\n",
    "print(a)"
   ]
  },
  {
   "cell_type": "markdown",
   "id": "8b59f0c8-f84a-4d2f-a20d-44fa997a0675",
   "metadata": {},
   "source": [
    "8.Python program to find sum of elements in list"
   ]
  },
  {
   "cell_type": "code",
   "execution_count": 10,
   "id": "22bf6401-01e4-4cad-889c-34a8357ed26d",
   "metadata": {},
   "outputs": [
    {
     "name": "stdout",
     "output_type": "stream",
     "text": [
      "100\n"
     ]
    }
   ],
   "source": [
    "a = [10, 20, 30, 40]\n",
    "res = sum(a)\n",
    "print(res)"
   ]
  },
  {
   "cell_type": "markdown",
   "id": "2451e2a2-572e-4d2b-aa9c-0d6f8d3b31e6",
   "metadata": {},
   "source": [
    "9.Merge Two Lists in Python"
   ]
  },
  {
   "cell_type": "code",
   "execution_count": 11,
   "id": "2707a905-4420-4100-b3e4-3757577adadd",
   "metadata": {},
   "outputs": [
    {
     "name": "stdout",
     "output_type": "stream",
     "text": [
      "[1, 2, 3, 4, 5, 6]\n"
     ]
    }
   ],
   "source": [
    "a = [1, 2, 3]\n",
    "b = [4, 5, 6]\n",
    "\n",
    "# Merge the two lists and assign\n",
    "# the result to a new list\n",
    "c = a + b\n",
    "print(c)"
   ]
  },
  {
   "cell_type": "markdown",
   "id": "e56d13f4-44fc-4856-ac31-614a26e39755",
   "metadata": {},
   "source": [
    "10.Sort a list in python"
   ]
  },
  {
   "cell_type": "markdown",
   "id": "afdf804d-50a9-4dfd-9c87-d3e95a215fd3",
   "metadata": {},
   "source": [
    "11.Python – Check for Sublist in List"
   ]
  },
  {
   "cell_type": "code",
   "execution_count": 16,
   "id": "156f1228-672f-4141-9200-7dfa3da69440",
   "metadata": {},
   "outputs": [
    {
     "name": "stdout",
     "output_type": "stream",
     "text": [
      "The original list: [5, 6, 3, 8, 2, 1, 7, 1]\n",
      "Sublist is present\n"
     ]
    }
   ],
   "source": [
    "# Printing original list\n",
    "print(\"The original list: \" + str(test_list))\n",
    "\n",
    "# Initializing sublist\n",
    "sublist = [8, 2, 1]\n",
    "\n",
    "# Check for Sublist in List\n",
    "# Using loop + list slicing\n",
    "res = False\n",
    "for idx in range(len(test_list) - len(sublist) + 1):\n",
    "    if test_list[idx: idx + len(sublist)] == sublist:\n",
    "        res = True\n",
    "        break  # No need to continue once found\n",
    "\n",
    "# Printing result\n",
    "if res:\n",
    "    print(\"Sublist is present\")\n",
    "else:\n",
    "    print(\"Sublist is not present\")\n"
   ]
  },
  {
   "cell_type": "code",
   "execution_count": null,
   "id": "7cf49272-f5d7-4b63-9356-cd37031b55d3",
   "metadata": {},
   "outputs": [],
   "source": []
  }
 ],
 "metadata": {
  "kernelspec": {
   "display_name": "Python 3 (ipykernel)",
   "language": "python",
   "name": "python3"
  },
  "language_info": {
   "codemirror_mode": {
    "name": "ipython",
    "version": 3
   },
   "file_extension": ".py",
   "mimetype": "text/x-python",
   "name": "python",
   "nbconvert_exporter": "python",
   "pygments_lexer": "ipython3",
   "version": "3.11.4"
  }
 },
 "nbformat": 4,
 "nbformat_minor": 5
}
