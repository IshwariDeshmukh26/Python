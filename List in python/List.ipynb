{
 "cells": [
  {
   "cell_type": "markdown",
   "id": "d309046f-c73a-4579-8a3f-938f40cb4e0b",
   "metadata": {},
   "source": [
    "# List in Python"
   ]
  },
  {
   "cell_type": "markdown",
   "id": "ecdbc496-36ae-4d6c-ac79-8862260c2329",
   "metadata": {},
   "source": [
    "A list can be defined as a ordered collection of values or items of different types.\n"
   ]
  },
  {
   "cell_type": "markdown",
   "id": "e1f781aa-9049-4b6b-944c-fda70209b129",
   "metadata": {},
   "source": [
    "Python lists are mutable type which implies that we may modify its element after it has been\n",
    "formed. "
   ]
  },
  {
   "cell_type": "markdown",
   "id": "502fac17-b2c4-4e97-bd67-8259f64a1d80",
   "metadata": {},
   "source": [
    "The items in the list are separated with the comma (,) and enclosed with the square brackets [ ].\n"
   ]
  },
  {
   "cell_type": "markdown",
   "id": "57218571-4582-4b50-af49-1bc77dbc80b8",
   "metadata": {},
   "source": [
    "## PROPERTIES OF LIST"
   ]
  },
  {
   "cell_type": "markdown",
   "id": "217a3440-2f30-4894-86a5-f43b9d66614d",
   "metadata": {},
   "source": [
    "1.It is mutable\n"
   ]
  },
  {
   "cell_type": "markdown",
   "id": "27e77e85-8d39-4093-a9a1-88534907f044",
   "metadata": {},
   "source": [
    "2.Ordered data type"
   ]
  },
  {
   "cell_type": "markdown",
   "id": "88b16c24-5567-475d-b5ce-d562fccc6d23",
   "metadata": {},
   "source": [
    "3.Duplicates are allowed\n"
   ]
  },
  {
   "cell_type": "markdown",
   "id": "1aa899b4-6a5b-4e4a-a6c6-2de67b1da314",
   "metadata": {},
   "source": [
    "4.Enclosed by []\n"
   ]
  },
  {
   "cell_type": "markdown",
   "id": "c87754ac-eb2b-4109-9233-3e6cc3835e67",
   "metadata": {},
   "source": [
    "5.List items are separated by comma"
   ]
  },
  {
   "cell_type": "markdown",
   "id": "d986ddc9-9a15-4762-8fdd-b1707c487c31",
   "metadata": {},
   "source": [
    "6.List is Dynamic"
   ]
  },
  {
   "cell_type": "markdown",
   "id": "46e4ff4f-2936-489f-b85d-e6c84372a7ef",
   "metadata": {},
   "source": [
    "## Syntax"
   ]
  },
  {
   "cell_type": "markdown",
   "id": "965b1220-2ed6-4cc4-8604-dd00945f1e51",
   "metadata": {},
   "source": [
    "### var = []"
   ]
  },
  {
   "cell_type": "markdown",
   "id": "d3aa73a6-4d61-456d-8f4b-7fdbe83476da",
   "metadata": {},
   "source": [
    "# 1.HOW TO CREATE LIST AND DISPLAY LIST"
   ]
  },
  {
   "cell_type": "code",
   "execution_count": 1,
   "id": "1cfda8f0-0b3b-49a0-9613-da7cb694208c",
   "metadata": {},
   "outputs": [
    {
     "name": "stdout",
     "output_type": "stream",
     "text": [
      "['Apple', 'Mango', 'Banana', 'Fig', 'Pineapple']\n"
     ]
    }
   ],
   "source": [
    "#Define list\n",
    "fruit=['Apple','Mango','Banana','Fig','Pineapple']\n",
    "#Display list\n",
    "print(fruit)"
   ]
  },
  {
   "cell_type": "code",
   "execution_count": 2,
   "id": "4ea98696-38f7-4df7-ab3f-8832e6519e85",
   "metadata": {},
   "outputs": [
    {
     "name": "stdout",
     "output_type": "stream",
     "text": [
      "[1, 4, 2, 6, 7]\n"
     ]
    }
   ],
   "source": [
    "#Define List\n",
    "l=[1,4,2,6,7]\n",
    "#Display List\n",
    "print(l)\n",
    "\n"
   ]
  },
  {
   "cell_type": "code",
   "execution_count": 3,
   "id": "ab76f8df-8b78-4892-929a-56de87f84f43",
   "metadata": {},
   "outputs": [
    {
     "name": "stdout",
     "output_type": "stream",
     "text": [
      "[1, 'Apple', 2.5, [1, 2, 3], (1, 2, 3), {2, 'a'}]\n"
     ]
    }
   ],
   "source": [
    "#Defines List\n",
    "m=[1,'Apple',2.5,[1,2,3],(1,2,3),{'a',2}]\n",
    "#Display list\n",
    "print(m)"
   ]
  },
  {
   "cell_type": "markdown",
   "id": "a596d1f9-f30c-4102-b943-e2b95ce320d8",
   "metadata": {},
   "source": [
    "# 2.ACCESSING ELEMENTS OF LIST"
   ]
  },
  {
   "cell_type": "markdown",
   "id": "7192a602-225b-4e42-ad91-b9828f614b67",
   "metadata": {},
   "source": [
    "In Python, there are two ways to access elements of List."
   ]
  },
  {
   "cell_type": "markdown",
   "id": "6d3d4038-f3ee-4d5d-86ad-3dbb6d5dcce7",
   "metadata": {},
   "source": [
    "1.By using index"
   ]
  },
  {
   "cell_type": "markdown",
   "id": "d4acce1f-a274-4b6b-a899-78531e18b504",
   "metadata": {},
   "source": [
    "2.By using slice operator"
   ]
  },
  {
   "cell_type": "markdown",
   "id": "b3c3764e-8db7-4c68-b486-f3b28c556578",
   "metadata": {},
   "source": [
    "### ACCESSING CHARACTERS BY USING INDEX:"
   ]
  },
  {
   "cell_type": "markdown",
   "id": "9377f5d8-c2c7-46e8-9985-b6cf78f2f79f",
   "metadata": {},
   "source": [
    "In Python, individual list element can be accessed by using the method of Indexing."
   ]
  },
  {
   "cell_type": "markdown",
   "id": "47e83cf2-8eef-4ac2-bb50-c01dbaa347a2",
   "metadata": {},
   "source": [
    "Python support two types of index positive(+) and negative(-):"
   ]
  },
  {
   "cell_type": "code",
   "execution_count": 4,
   "id": "9877674c-2077-4611-921d-ff64b192629f",
   "metadata": {},
   "outputs": [],
   "source": [
    "#Positive index: means left to right (forward direction)\n",
    "#Negative index: means right to left (backward direction)"
   ]
  },
  {
   "cell_type": "markdown",
   "id": "c987ad57-c8df-42f8-99ba-c0d6b9cbdeb6",
   "metadata": {},
   "source": [
    "#### EXAMPLE 1: USING POSITIVE INDEXING"
   ]
  },
  {
   "cell_type": "code",
   "execution_count": 5,
   "id": "7fe93893-c22b-4e2e-a5a2-94769c65f1cb",
   "metadata": {},
   "outputs": [
    {
     "name": "stdout",
     "output_type": "stream",
     "text": [
      "15\n",
      "12\n"
     ]
    }
   ],
   "source": [
    "#Positive index\n",
    "l=[10,11,12,13,14,15,16,18,19,20]   \n",
    "print(l[5])     # Accesses the element at index 5\n",
    "print(l[2])     # Accesses the element at index 2"
   ]
  },
  {
   "cell_type": "markdown",
   "id": "94d7aac7-37bf-4268-a852-5e8a4a2b9656",
   "metadata": {},
   "source": [
    "#### EXAMPLE 2: USING NEGATIVE INDEXING"
   ]
  },
  {
   "cell_type": "code",
   "execution_count": 6,
   "id": "0fb6977c-f7e9-43b0-aa3b-f5d07d2963da",
   "metadata": {},
   "outputs": [
    {
     "name": "stdout",
     "output_type": "stream",
     "text": [
      "15\n",
      "19\n"
     ]
    }
   ],
   "source": [
    "#Negative index\n",
    "l=[10,11,12,13,14,15,16,18,19,20]\n",
    "#Negative indexing starts from the end of the list.\n",
    "#Index -1 is 20, -2 is 19, and so on.\n",
    "#Index -5 corresponds to 16.\n",
    "print(l[-5])   # Accesses the element at index -5\n",
    "#Index -2 corresponds to 19.\n",
    "print(l[-2])   # Accesses the element at index -2"
   ]
  },
  {
   "cell_type": "markdown",
   "id": "cef2c1db-f998-470b-85e5-cdddd002fca7",
   "metadata": {},
   "source": [
    "### ACCESSING LIST ELEMENTS BY USING SLICE OPERATOR:"
   ]
  },
  {
   "cell_type": "markdown",
   "id": "e082a353-1587-4d26-935b-23d1ba5f1216",
   "metadata": {},
   "source": [
    "Python also allows a form of indexing syntax that extracts multiple elements from a list, known as list slicing."
   ]
  },
  {
   "cell_type": "markdown",
   "id": "c33d6472-18f0-4e78-8b40-39be68141eaf",
   "metadata": {},
   "source": [
    "If l is a list, an expression of the form l[m:n] returns the portion of l starting with position m, and\n",
    "up to but not including position n."
   ]
  },
  {
   "cell_type": "markdown",
   "id": "4b4ec254-901b-4f87-99fb-b98173b7f58e",
   "metadata": {},
   "source": [
    "### Syntax:"
   ]
  },
  {
   "cell_type": "markdown",
   "id": "0b6eecc0-aed3-47aa-ae88-daa76048c13d",
   "metadata": {},
   "source": [
    "String[beginindex:endindex:step]"
   ]
  },
  {
   "cell_type": "markdown",
   "id": "ee416d1b-ab1a-4aaa-9b4f-45a9eb61dc6a",
   "metadata": {},
   "source": [
    "#### EXAMPLE: USING SCLICING"
   ]
  },
  {
   "cell_type": "code",
   "execution_count": 7,
   "id": "7d9bf52e-ae3b-4403-8149-0f00d1d87bca",
   "metadata": {},
   "outputs": [
    {
     "name": "stdout",
     "output_type": "stream",
     "text": [
      "[15, 16, 18, 19]\n",
      "[12, 14, 16, 19]\n",
      "[15, 16, 18]\n",
      "[]\n",
      "[19, 18, 16]\n",
      "[10, 11, 12, 13, 14, 15, 16, 18, 19, 20]\n",
      "[20, 19, 18, 16, 15, 14, 13, 12, 11, 10]\n"
     ]
    }
   ],
   "source": [
    "l=[10,11,12,13,14,15,16,18,19,20] #Define list\n",
    "\n",
    "print(l[5:9])        #Extracts elements from index 5 to 8 (9 is excluded).\n",
    "\n",
    "print(l[2:9:2])      #Extracts every 2nd element from index 2 to 8.\n",
    "\n",
    "print(l[-5:-2])      #Extracts elements from index -5 to -3 (excludes -2).\n",
    "\n",
    "print(l[-2:-5])      #Invalid because slicing with a positive step moves left to right, and -2 to -5 is in reverse.\n",
    "\n",
    "print(l[-2:-5:-1])   #Extracts elements from -2 to -5 in reverse order due to step -1.\n",
    "\n",
    "print(l[:])          #Extracts all elements in the list (full copy).\n",
    "\n",
    "print(l[::-1])       #Reverses the list by using a step of -1."
   ]
  },
  {
   "cell_type": "markdown",
   "id": "2ec8ed90-dbe5-4d0c-8da7-691d07a660b1",
   "metadata": {},
   "source": [
    "### UPDATING LIST ELEMENTS USING INDEXING AND SLICE OPERATOR"
   ]
  },
  {
   "cell_type": "code",
   "execution_count": 8,
   "id": "f062220a-12f9-44c3-842f-f6e35c069753",
   "metadata": {},
   "outputs": [
    {
     "name": "stdout",
     "output_type": "stream",
     "text": [
      "[1, 2, 4, 5, 'Hi', 7]\n"
     ]
    }
   ],
   "source": [
    "l=[1,2,4,5,6,7]\n",
    "l[4]='Hi'        ## Updates the element at index 4 to 'Hi'\n",
    "print(l)\n",
    "#The list l initially contains: [1, 2, 4, 5, 6, 7].\n",
    "#l[4] = 'Hi' updates the element at index 4 (originally 6) to 'Hi'."
   ]
  },
  {
   "cell_type": "code",
   "execution_count": 9,
   "id": "97318737-c722-485e-bd8f-d52396112276",
   "metadata": {},
   "outputs": [
    {
     "name": "stdout",
     "output_type": "stream",
     "text": [
      "[1, 2, 2, 3, 4, 5]\n"
     ]
    }
   ],
   "source": [
    "l=[1,2,4,5,6,7]   #Define List\n",
    "l[2:6]=2,3,4,5    # Replaces elements from index 2 to 5 with 2, 3, 4, 5\n",
    "print(l)          #Print list"
   ]
  },
  {
   "cell_type": "markdown",
   "id": "86b50426-1e94-4e32-9237-9cd9df5f700f",
   "metadata": {},
   "source": [
    "# 3.ADDING ELEMENTS IN THE LIST"
   ]
  },
  {
   "cell_type": "markdown",
   "id": "77a13a71-3b5d-400f-8258-4d1b961b79e8",
   "metadata": {},
   "source": [
    "We can add elements to a list using the following methods:"
   ]
  },
  {
   "cell_type": "markdown",
   "id": "9322d6e9-2477-4cb9-b40f-b38ded8250c5",
   "metadata": {},
   "source": [
    "1.append(): Adds an element at the end of the list."
   ]
  },
  {
   "cell_type": "markdown",
   "id": "09165543-856c-4160-bcf0-07266173f0b5",
   "metadata": {},
   "source": [
    "2.extend(): Adds multiple elements to the end of the list."
   ]
  },
  {
   "cell_type": "markdown",
   "id": "9b38ff87-46da-4325-bcf2-644fb4a5bcba",
   "metadata": {},
   "source": [
    "3.insert(): Adds an element at a specific position."
   ]
  },
  {
   "cell_type": "markdown",
   "id": "7937cc17-3abf-4902-a15e-9c26eeb47fd8",
   "metadata": {},
   "source": [
    "## Python List append() Method"
   ]
  },
  {
   "cell_type": "markdown",
   "id": "8c82eaad-6f2f-4669-97ae-b149f9481595",
   "metadata": {},
   "source": [
    "The append() method in Python is used to add a single item to the end of list. This method modifies the original list and does not return a new list."
   ]
  },
  {
   "cell_type": "markdown",
   "id": "6472dee9-d60e-48c4-8530-d3fe7dc2ca66",
   "metadata": {},
   "source": [
    "Syntax: list.append(element)"
   ]
  },
  {
   "cell_type": "code",
   "execution_count": 10,
   "id": "5cc90fa9-b6b6-4487-808a-8daf2018afd9",
   "metadata": {},
   "outputs": [
    {
     "name": "stdout",
     "output_type": "stream",
     "text": [
      "[2, 5, 6, 7, 8]\n"
     ]
    }
   ],
   "source": [
    "a = [2, 5, 6, 7]\n",
    "\n",
    "# Use append() to add the element 8\n",
    "# to the end of the list\n",
    "a.append(8)\n",
    "print(a)"
   ]
  },
  {
   "cell_type": "markdown",
   "id": "bb533c59-4271-487a-aa99-90ad84bad4df",
   "metadata": {},
   "source": [
    "## Python List extend() Method"
   ]
  },
  {
   "cell_type": "markdown",
   "id": "c54f23c2-9ea4-4df0-b8db-5512a1dee49a",
   "metadata": {},
   "source": [
    "extend() method is used to add items from one list to the end of another list. This method modifies the original list by appending all items from the given iterable"
   ]
  },
  {
   "cell_type": "markdown",
   "id": "4a53e4e7-b16c-4433-a7a3-c2d6ad29abec",
   "metadata": {},
   "source": [
    "Using extend() method is easy and efficient way to merge two lists or add multiple elements at once."
   ]
  },
  {
   "cell_type": "markdown",
   "id": "5762c9fc-1613-46a2-8b36-cfa81ac07c81",
   "metadata": {},
   "source": [
    "Syntax: list.extend(element)"
   ]
  },
  {
   "cell_type": "code",
   "execution_count": 11,
   "id": "916a47dd-dc0f-4fdf-a41b-4f5b831620e0",
   "metadata": {},
   "outputs": [
    {
     "name": "stdout",
     "output_type": "stream",
     "text": [
      "[1, 2, 3, 4, 5]\n"
     ]
    }
   ],
   "source": [
    "a = [1, 2, 3]\n",
    "b = [4, 5]\n",
    "\n",
    "# Using extend() to add elements of b to a\n",
    "a.extend(b)\n",
    "\n",
    "print(a)"
   ]
  },
  {
   "cell_type": "markdown",
   "id": "83b0ebf2-d744-46bb-ad78-99dcad91eb24",
   "metadata": {},
   "source": [
    "## Python List insert() Method "
   ]
  },
  {
   "cell_type": "markdown",
   "id": "635c1086-f044-436d-862c-83fabed40ea9",
   "metadata": {},
   "source": [
    "Python List insert() method inserts an item at a specific index in a list."
   ]
  },
  {
   "cell_type": "markdown",
   "id": "f09e0b1a-0b19-47d9-aadb-a91f4af030c6",
   "metadata": {},
   "source": [
    "Synatx: list_name.insert(index, element)"
   ]
  },
  {
   "cell_type": "code",
   "execution_count": 12,
   "id": "ebc43bdd-4ba1-4b0f-9b9e-442ab236e535",
   "metadata": {},
   "outputs": [
    {
     "name": "stdout",
     "output_type": "stream",
     "text": [
      "['banana', 'apple', 'cherry', 'grape']\n"
     ]
    }
   ],
   "source": [
    "# creating a list\n",
    "fruit = [\"banana\",\"cherry\",\"grape\"]\n",
    "fruit.insert(1,\"apple\")\n",
    "print(fruit)"
   ]
  },
  {
   "cell_type": "markdown",
   "id": "3c89f6d5-28e2-48bc-9a09-627e9b77da0d",
   "metadata": {},
   "source": [
    "# 4.UPDATING ELEMENTS INTO THE LIST"
   ]
  },
  {
   "cell_type": "markdown",
   "id": "e5a43186-070d-49dd-9e05-92a918ea67d1",
   "metadata": {},
   "source": [
    "We can change the value of an element by accessing it using its index."
   ]
  },
  {
   "cell_type": "code",
   "execution_count": 13,
   "id": "32bb725a-6cce-47b9-a4c9-6c8100457a1d",
   "metadata": {},
   "outputs": [
    {
     "name": "stdout",
     "output_type": "stream",
     "text": [
      "[10, 25, 30, 40, 50]\n"
     ]
    }
   ],
   "source": [
    "a = [10, 20, 30, 40, 50]\n",
    "# Change the second element\n",
    "a[1] = 25 \n",
    "print(a)"
   ]
  },
  {
   "cell_type": "markdown",
   "id": "88dc4a27-3e91-427a-8558-80da079dd57f",
   "metadata": {},
   "source": [
    "# 5.Removing Elements from List"
   ]
  },
  {
   "cell_type": "markdown",
   "id": "4f9411ef-d62b-4702-8b83-d01915970b80",
   "metadata": {},
   "source": [
    "We can remove elements from a list using:"
   ]
  },
  {
   "cell_type": "markdown",
   "id": "a89ca649-872a-4ab5-9cd5-c4858339900c",
   "metadata": {},
   "source": [
    "## Python List remove() Method"
   ]
  },
  {
   "cell_type": "markdown",
   "id": "42f22bcb-e1a1-4f1d-87de-4d5f6185d6eb",
   "metadata": {},
   "source": [
    "remove() function removes the first occurrence of a given item from list."
   ]
  },
  {
   "cell_type": "markdown",
   "id": "2ab8bb73-6dbf-41f4-8b6c-a910cb8359ac",
   "metadata": {},
   "source": [
    "Syntax: list_name.remove(obj) "
   ]
  },
  {
   "cell_type": "code",
   "execution_count": 14,
   "id": "3837007a-a226-4156-8213-efd01860d647",
   "metadata": {},
   "outputs": [
    {
     "name": "stdout",
     "output_type": "stream",
     "text": [
      "['a', 'c']\n"
     ]
    }
   ],
   "source": [
    "a = ['a', 'b', 'c']\n",
    "a.remove(\"b\")\n",
    "print(a)"
   ]
  },
  {
   "cell_type": "markdown",
   "id": "64dcc02e-fe8a-49ad-be21-d29a96add82c",
   "metadata": {},
   "source": [
    "## Python List pop() Method"
   ]
  },
  {
   "cell_type": "markdown",
   "id": "64f764f6-cb40-4049-9c7a-9061f5380b46",
   "metadata": {},
   "source": [
    " pop() method is used to remove an element from a list at a specified index and return that element."
   ]
  },
  {
   "cell_type": "markdown",
   "id": "61b81482-4b2b-4dd5-aff9-bc2afa16fb24",
   "metadata": {},
   "source": [
    "Syntax: list_name.pop(index)\n",
    "\n"
   ]
  },
  {
   "cell_type": "code",
   "execution_count": 16,
   "id": "85c219ea-bf24-4952-ae2d-0d7d7ae03793",
   "metadata": {},
   "outputs": [
    {
     "name": "stdout",
     "output_type": "stream",
     "text": [
      "[10, 20, 30]\n"
     ]
    }
   ],
   "source": [
    "a = [10, 20, 30, 40]\n",
    "\n",
    "# Remove the last element from list\n",
    "a.pop()\n",
    "\n",
    "print(a)"
   ]
  },
  {
   "cell_type": "markdown",
   "id": "cb8ae95a-93d5-4185-9f39-b3c3f72e7569",
   "metadata": {},
   "source": [
    "## Python del keyword"
   ]
  },
  {
   "cell_type": "markdown",
   "id": "70e1cc5e-a7ce-4012-8661-d4a24bcc0b8d",
   "metadata": {},
   "source": [
    " Deletes an element at a specified index."
   ]
  },
  {
   "cell_type": "markdown",
   "id": "f6a5bd34-0c75-415c-a832-0c6bbc3a69e3",
   "metadata": {},
   "source": [
    "Syntax: del object_name"
   ]
  },
  {
   "cell_type": "code",
   "execution_count": 22,
   "id": "70575983-f46d-4f33-97a5-41c549e51b8a",
   "metadata": {},
   "outputs": [
    {
     "name": "stdout",
     "output_type": "stream",
     "text": [
      "List after del operation \n",
      " [4, 6, 2, 8, 10, 9, 5, 8, 7, 9]\n"
     ]
    }
   ],
   "source": [
    "l1=[4,6,2,8,9,10,9,5,8,7,9]\n",
    "\n",
    "del l1[4]\n",
    "\n",
    "print(f\"List after del operation \\n {l1}\")\n",
    "  "
   ]
  },
  {
   "cell_type": "markdown",
   "id": "f51a7bad-65ad-43df-b44e-aecb0c417b11",
   "metadata": {},
   "source": [
    "# 6.ITERATING OVER LIST"
   ]
  },
  {
   "cell_type": "markdown",
   "id": "c3b77ffd-148c-4496-8873-77a7e4b2bd14",
   "metadata": {},
   "source": [
    "We can iterate the Lists easily by using a for loop or other iteration methods. Iterating over lists is useful when we want to do some operation on each item or access specific items based on certain conditions"
   ]
  },
  {
   "cell_type": "markdown",
   "id": "b4b91b83-efd2-46f1-9e5d-425831ee6a44",
   "metadata": {},
   "source": [
    "## Using for Loop"
   ]
  },
  {
   "cell_type": "code",
   "execution_count": 24,
   "id": "1fb3daa2-89e4-400c-9d27-62029af16c54",
   "metadata": {},
   "outputs": [
    {
     "name": "stdout",
     "output_type": "stream",
     "text": [
      "apple\n",
      "banana\n",
      "cherry\n"
     ]
    }
   ],
   "source": [
    "a = ['apple', 'banana', 'cherry']\n",
    "\n",
    "# Iterating over the list\n",
    "for item in a:\n",
    "    print(item)"
   ]
  },
  {
   "cell_type": "markdown",
   "id": "47af9569-3c4c-4564-85d6-d3616f2a059b",
   "metadata": {},
   "source": [
    "## Using for Loop with range()"
   ]
  },
  {
   "cell_type": "markdown",
   "id": "e2ddcac9-a909-4992-b38d-819927e6ab71",
   "metadata": {},
   "source": [
    "We can use the range() method with for loop to traverse the list. This method allow us to access elements by their index, which is useful if we need to know the position of an element or modify the list in place."
   ]
  },
  {
   "cell_type": "code",
   "execution_count": 30,
   "id": "d0f126d7-48c0-407f-9111-de03b7c68566",
   "metadata": {},
   "outputs": [
    {
     "name": "stdout",
     "output_type": "stream",
     "text": [
      "Length of list: 5\n",
      "1\n",
      "3\n",
      "5\n",
      "7\n",
      "9\n"
     ]
    }
   ],
   "source": [
    "a = [1, 3, 5, 7, 9]\n",
    " \n",
    "# Calculate the length of the list\n",
    "n = len(a)\n",
    "print(\"Length of list:\",n)\n",
    " \n",
    "# Iterates over the indices from 0 to n-1 (i.e., 0 to 4)\n",
    "for i in range(n):\n",
    "    print(a[i])"
   ]
  },
  {
   "cell_type": "markdown",
   "id": "df7ed438-fb3c-45a2-a757-53edb71eccf8",
   "metadata": {},
   "source": [
    "## Using while Loop"
   ]
  },
  {
   "cell_type": "markdown",
   "id": "f944dfb5-f5fd-43bd-a1c2-dd9c4fd3fcfa",
   "metadata": {},
   "source": [
    " while loop to iterate through a list. We first need to find the length of list using len(), then start at index 0 and access each item by its index then incrementing the index by 1 after each iteration."
   ]
  },
  {
   "cell_type": "code",
   "execution_count": 26,
   "id": "d600bc85-1740-499e-ac41-e4c66dc49967",
   "metadata": {},
   "outputs": [
    {
     "name": "stdout",
     "output_type": "stream",
     "text": [
      "1\n",
      "3\n",
      "5\n",
      "7\n",
      "9\n"
     ]
    }
   ],
   "source": [
    "a = [1, 3, 5, 7, 9]\n",
    " \n",
    "# Start from the first index\n",
    "i = 0\n",
    " \n",
    "# The loop runs till the last index (i.e., 4)\n",
    "while i < len(a):\n",
    "    print(a[i])\n",
    "    i += 1"
   ]
  },
  {
   "cell_type": "markdown",
   "id": "b621ec9a-fd0b-4652-ad2d-b5d04d9939bc",
   "metadata": {},
   "source": [
    "## Nested Lists in Python"
   ]
  },
  {
   "cell_type": "code",
   "execution_count": 25,
   "id": "959f0c67-276d-4a93-87af-602cc012cfb2",
   "metadata": {},
   "outputs": [
    {
     "name": "stdout",
     "output_type": "stream",
     "text": [
      "6\n"
     ]
    }
   ],
   "source": [
    "matrix = [\n",
    "    [1, 2, 3],\n",
    "    [4, 5, 6],\n",
    "    [7, 8, 9]\n",
    "]\n",
    "\n",
    "# Access element at row 2, column 3\n",
    "print(matrix[1][2])"
   ]
  },
  {
   "cell_type": "markdown",
   "id": "6323975c-e438-492a-8531-a3c33070b1c1",
   "metadata": {},
   "source": [
    "## Using enumerate()"
   ]
  },
  {
   "cell_type": "markdown",
   "id": "45351868-e9cc-4889-9aa2-7ec75710aff1",
   "metadata": {},
   "source": [
    "We can also use the enumerate() function to iterate through the list. This method provides both the index (i) and the value (val) of each element during the loop."
   ]
  },
  {
   "cell_type": "code",
   "execution_count": 31,
   "id": "75b08b3d-3eee-4687-9005-824207cb69aa",
   "metadata": {},
   "outputs": [
    {
     "name": "stdout",
     "output_type": "stream",
     "text": [
      "0 1\n",
      "1 3\n",
      "2 5\n",
      "3 7\n",
      "4 9\n"
     ]
    }
   ],
   "source": [
    "a = [1, 3, 5, 7, 9]\n",
    "\n",
    "# Here, i and val reprsents index and value respectively\n",
    "for i, val in enumerate(a):\n",
    "    print (i, val)"
   ]
  },
  {
   "cell_type": "markdown",
   "id": "5b7f221a-5e02-46c0-866d-b27c567c603c",
   "metadata": {},
   "source": [
    "## Using List Comprehension"
   ]
  },
  {
   "cell_type": "code",
   "execution_count": 34,
   "id": "e9cc5e52-76d7-4807-add8-1f66508e637c",
   "metadata": {},
   "outputs": [
    {
     "name": "stdout",
     "output_type": "stream",
     "text": [
      "1\n",
      "3\n",
      "5\n",
      "7\n",
      "9\n"
     ]
    },
    {
     "data": {
      "text/plain": [
       "[None, None, None, None, None]"
      ]
     },
     "execution_count": 34,
     "metadata": {},
     "output_type": "execute_result"
    }
   ],
   "source": [
    "a = [1, 3, 5, 7, 9]\n",
    " \n",
    "# On each iteration val is passed to print function\n",
    "# And printed in the console.\n",
    "[print(val) for val in a]\n",
    "#Why [None, None, None, None, None]?\n",
    "#The comprehension itself is evaluated and printed in the console if it’s not assigned to a variable.\n",
    "#This is why you see the list of None values after the individual numbers are printed."
   ]
  },
  {
   "cell_type": "markdown",
   "id": "3ef9f76c-3e72-4952-ac9e-6ff0f45c2a24",
   "metadata": {},
   "source": [
    "# List Methods"
   ]
  },
  {
   "cell_type": "code",
   "execution_count": null,
   "id": "5a0008d1-de5d-4194-b0c7-adef7496618d",
   "metadata": {},
   "outputs": [],
   "source": [
    "#append(): Adds an element to the end of the list.\n",
    "#copy(): Returns a shallow copy of the list.\n",
    "#clear(): Removes all elements from the list.\n",
    "#count(): Returns the number of times a specified element appears in the list.\n",
    "#extend(): Adds elements from another list to the end of the current list.\n",
    "#index(): Returns the index of the first occurrence of a specified element.\n",
    "#insert(): Inserts an element at a specified position.\n",
    "#pop(): Removes and returns the element at the specified position (or the last element if no index is specified).\n",
    "#remove(): Removes the first occurrence of a specified element.\n",
    "#reverse(): Reverses the order of the elements in the list.\n",
    "#sort(): Sorts the list in ascending order (by default)"
   ]
  },
  {
   "cell_type": "markdown",
   "id": "6d92bacc-825f-40b7-9385-e6d4c65a52fc",
   "metadata": {},
   "source": [
    "#### append():\n",
    "\n",
    "Syntax: list_name.append(element)"
   ]
  },
  {
   "cell_type": "code",
   "execution_count": 35,
   "id": "c0c6642f-941a-4354-90bf-173cccb79882",
   "metadata": {},
   "outputs": [
    {
     "name": "stdout",
     "output_type": "stream",
     "text": [
      "[1, 2, 3, 4]\n"
     ]
    }
   ],
   "source": [
    "a = [1, 2, 3]\n",
    "\n",
    "# Add 4 to the end of the list\n",
    "a.append(4)\n",
    "print(a)"
   ]
  },
  {
   "cell_type": "markdown",
   "id": "3859f3df-1c24-4590-957c-7fab1bdee278",
   "metadata": {},
   "source": [
    "#### copy():\n",
    "\n",
    "Syntax: list_name.copy()"
   ]
  },
  {
   "cell_type": "code",
   "execution_count": 36,
   "id": "e99414c9-45a3-4108-b92d-e39e7d0b2ed5",
   "metadata": {},
   "outputs": [
    {
     "name": "stdout",
     "output_type": "stream",
     "text": [
      "[1, 2, 3]\n"
     ]
    }
   ],
   "source": [
    "a = [1, 2, 3]\n",
    "\n",
    "# Create a copy of the list\n",
    "b = a.copy()\n",
    "print(b)"
   ]
  },
  {
   "cell_type": "markdown",
   "id": "171afdff-cf8d-41a4-b230-5d876275f7c1",
   "metadata": {},
   "source": [
    "#### clear():\n",
    "\n",
    "Syntax: list_name.clear()\n",
    "\n"
   ]
  },
  {
   "cell_type": "code",
   "execution_count": 38,
   "id": "9b63b7a5-0b25-4753-8245-950c7fda3281",
   "metadata": {},
   "outputs": [
    {
     "name": "stdout",
     "output_type": "stream",
     "text": [
      "[]\n"
     ]
    }
   ],
   "source": [
    "a = [1, 2, 3]\n",
    "\n",
    "# Remove all elements from the list\n",
    "a.clear()\n",
    "print(a)"
   ]
  },
  {
   "cell_type": "markdown",
   "id": "94570018-d9a9-4549-af48-d03e46c003d3",
   "metadata": {},
   "source": [
    "#### count():\n",
    "\n",
    "Syntax: list_name.count(element)"
   ]
  },
  {
   "cell_type": "code",
   "execution_count": 39,
   "id": "c33043b7-adb3-43cf-9718-d52b406aceb7",
   "metadata": {},
   "outputs": [
    {
     "name": "stdout",
     "output_type": "stream",
     "text": [
      "2\n"
     ]
    }
   ],
   "source": [
    "a = [1, 2, 3, 2]\n",
    "\n",
    "# Count occurrences of 2 in the list\n",
    "print(a.count(2))"
   ]
  },
  {
   "cell_type": "markdown",
   "id": "3a61a356-c807-406a-b07d-127c0d3ecc4d",
   "metadata": {},
   "source": [
    "#### extend():\n",
    "\n",
    "Syntax: list_name.extend(iterable)"
   ]
  },
  {
   "cell_type": "code",
   "execution_count": 41,
   "id": "99f46ea2-4e75-4dde-81f6-93e6b362603b",
   "metadata": {},
   "outputs": [
    {
     "name": "stdout",
     "output_type": "stream",
     "text": [
      "[1, 2, 3, 4]\n"
     ]
    }
   ],
   "source": [
    "a = [1, 2]\n",
    "\n",
    "# Extend list a by adding elements from list [3, 4]\n",
    "a.extend([3, 4])\n",
    "print(a)"
   ]
  },
  {
   "cell_type": "markdown",
   "id": "f19819d7-fb4a-4402-8c5a-12c9c642d4bd",
   "metadata": {},
   "source": [
    "#### index():\n",
    "\n",
    "Syntax: list_name.index(element)\n",
    "\n"
   ]
  },
  {
   "cell_type": "code",
   "execution_count": 43,
   "id": "fccfb4bf-a1b2-4f3a-aac5-b005732f0fb0",
   "metadata": {},
   "outputs": [
    {
     "name": "stdout",
     "output_type": "stream",
     "text": [
      "1\n"
     ]
    }
   ],
   "source": [
    "a = [1, 2, 3]\n",
    "\n",
    "# Find the index of 2 in the list\n",
    "print(a.index(2))"
   ]
  },
  {
   "cell_type": "markdown",
   "id": "fda30f57-bbed-4b23-bfdc-1fbb57d021c0",
   "metadata": {},
   "source": [
    "#### insert():\n",
    "\n",
    "Syntax: list_name.insert(index, element)\n",
    "\n"
   ]
  },
  {
   "cell_type": "code",
   "execution_count": 51,
   "id": "9cfc2351-6634-4ec9-87a1-f95e18457af0",
   "metadata": {},
   "outputs": [
    {
     "name": "stdout",
     "output_type": "stream",
     "text": [
      "[1, 2, 3]\n"
     ]
    }
   ],
   "source": [
    "a = [1, 3]\n",
    "\n",
    "# Insert 2 at index 1\n",
    "a.insert(1, 2)\n",
    "print(a)"
   ]
  },
  {
   "cell_type": "markdown",
   "id": "9d3fed3e-3e65-4663-a196-dce8818ad9a3",
   "metadata": {},
   "source": [
    "#### pop():\n",
    "\n",
    "Syntax: list_name.pop(index)"
   ]
  },
  {
   "cell_type": "code",
   "execution_count": 45,
   "id": "d549661c-c55c-4a37-a762-ff88613c7dde",
   "metadata": {},
   "outputs": [
    {
     "name": "stdout",
     "output_type": "stream",
     "text": [
      "[1, 2]\n"
     ]
    }
   ],
   "source": [
    "a = [1, 2, 3]\n",
    "\n",
    "# Remove and return the last element in the list\n",
    "a.pop()\n",
    "print(a)"
   ]
  },
  {
   "cell_type": "markdown",
   "id": "b0686e4f-3964-485e-b621-e8cd6f95a852",
   "metadata": {},
   "source": [
    "#### remove():\n",
    "\n",
    "Syntax: list_name.remove(element)"
   ]
  },
  {
   "cell_type": "code",
   "execution_count": 47,
   "id": "7bdaac7d-325d-454b-92cd-d09766eef5fd",
   "metadata": {},
   "outputs": [
    {
     "name": "stdout",
     "output_type": "stream",
     "text": [
      "[1, 3]\n"
     ]
    }
   ],
   "source": [
    "a = [1, 2, 3]\n",
    "\n",
    "# Remove the first occurrence of 2\n",
    "a.remove(2)\n",
    "print(a)"
   ]
  },
  {
   "cell_type": "markdown",
   "id": "f085b485-708e-4464-8340-e984c24bff62",
   "metadata": {},
   "source": [
    "#### reverse():\n",
    "\n",
    "Syntax: list_name.reverse()\n",
    "\n"
   ]
  },
  {
   "cell_type": "code",
   "execution_count": 48,
   "id": "2bbecd89-d253-4d5d-b0fe-c37bf64136c9",
   "metadata": {},
   "outputs": [
    {
     "name": "stdout",
     "output_type": "stream",
     "text": [
      "[3, 2, 1]\n"
     ]
    }
   ],
   "source": [
    "a = [1, 2, 3]\n",
    "\n",
    "# Reverse the list order\n",
    "a.reverse()\n",
    "print(a)"
   ]
  },
  {
   "cell_type": "markdown",
   "id": "e29793b2-28c5-4d3e-952a-e252cd2760a7",
   "metadata": {},
   "source": [
    "#### sort():\n",
    "\n",
    "Syntax: list_name.sort(key=None, reverse=False)"
   ]
  },
  {
   "cell_type": "code",
   "execution_count": 50,
   "id": "f14a5975-2554-4faf-9395-b8e002fb9902",
   "metadata": {},
   "outputs": [
    {
     "name": "stdout",
     "output_type": "stream",
     "text": [
      "[1, 2, 3]\n"
     ]
    }
   ],
   "source": [
    "a = [3, 1, 2]\n",
    "\n",
    "# Sort the list in ascending order\n",
    "a.sort()\n",
    "print(a)"
   ]
  },
  {
   "cell_type": "markdown",
   "id": "fb92e655-59b4-46f9-8101-36aad6d7494e",
   "metadata": {},
   "source": [
    "# min(), max() and sum()"
   ]
  },
  {
   "cell_type": "markdown",
   "id": "ad7cd8b3-c315-4765-817b-9a4aff9df074",
   "metadata": {},
   "source": [
    "### 1.min() is used to return minimum of all the elements of List.\n",
    "\n",
    "Syntax:min(list)"
   ]
  },
  {
   "cell_type": "code",
   "execution_count": 52,
   "id": "010b5b1b-3af0-4cc9-9249-05873dd257a9",
   "metadata": {},
   "outputs": [
    {
     "name": "stdout",
     "output_type": "stream",
     "text": [
      "Minimum element in list is  1\n"
     ]
    }
   ],
   "source": [
    "l=[1,2,3,6,102,456,899]\n",
    "print(\"Minimum element in list is \",min(l))"
   ]
  },
  {
   "cell_type": "markdown",
   "id": "e0d176e7-a5dd-4436-baa0-e935f61f215a",
   "metadata": {},
   "source": [
    "### 2.max() is used to return maximum of all the elements of List.\n",
    "\n",
    "Syntax:max(list)"
   ]
  },
  {
   "cell_type": "code",
   "execution_count": 53,
   "id": "7ba1167c-7de9-4335-9593-a61392bd5ad5",
   "metadata": {},
   "outputs": [
    {
     "name": "stdout",
     "output_type": "stream",
     "text": [
      "Maximum element in list is  899\n"
     ]
    }
   ],
   "source": [
    "l=[1,2,3,6,102,456,899]\n",
    "print(\"Maximum element in list is \",max(l))"
   ]
  },
  {
   "cell_type": "markdown",
   "id": "65ab319f-5650-4670-94ac-1a5786a4b914",
   "metadata": {},
   "source": [
    "### 3.sum() is used to return sum of all elements of List.\n",
    "\n",
    "Syntax:sum(list)"
   ]
  },
  {
   "cell_type": "code",
   "execution_count": 54,
   "id": "7691328d-f093-4512-aa3d-801ad56e74b9",
   "metadata": {},
   "outputs": [
    {
     "name": "stdout",
     "output_type": "stream",
     "text": [
      "Sum of all elements in list is  1469\n"
     ]
    }
   ],
   "source": [
    "l=[1,2,3,6,102,456,899]\n",
    "print(\"Sum of all elements in list is \",sum(l))"
   ]
  },
  {
   "cell_type": "code",
   "execution_count": null,
   "id": "4f5a26af-6180-4557-88de-166bdaf50583",
   "metadata": {},
   "outputs": [],
   "source": []
  }
 ],
 "metadata": {
  "kernelspec": {
   "display_name": "Python 3 (ipykernel)",
   "language": "python",
   "name": "python3"
  },
  "language_info": {
   "codemirror_mode": {
    "name": "ipython",
    "version": 3
   },
   "file_extension": ".py",
   "mimetype": "text/x-python",
   "name": "python",
   "nbconvert_exporter": "python",
   "pygments_lexer": "ipython3",
   "version": "3.11.4"
  }
 },
 "nbformat": 4,
 "nbformat_minor": 5
}
